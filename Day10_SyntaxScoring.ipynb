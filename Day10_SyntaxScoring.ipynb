{
  "nbformat": 4,
  "nbformat_minor": 0,
  "metadata": {
    "colab": {
      "name": "Day10_SyntaxScoring.ipynb",
      "provenance": [],
      "authorship_tag": "ABX9TyPIZJF0VJMS4PNuoT/PcamX",
      "include_colab_link": true
    },
    "kernelspec": {
      "name": "python3",
      "display_name": "Python 3"
    },
    "language_info": {
      "name": "python"
    }
  },
  "cells": [
    {
      "cell_type": "markdown",
      "metadata": {
        "id": "view-in-github",
        "colab_type": "text"
      },
      "source": [
        "<a href=\"https://colab.research.google.com/github/adeviney/Advent-of-Code/blob/main/Day10_SyntaxScoring.ipynb\" target=\"_parent\"><img src=\"https://colab.research.google.com/assets/colab-badge.svg\" alt=\"Open In Colab\"/></a>"
      ]
    },
    {
      "cell_type": "markdown",
      "source": [
        "# Day 10: Syntax Scoring"
      ],
      "metadata": {
        "id": "vJJcao8I21Wc"
      }
    },
    {
      "cell_type": "code",
      "source": [
        "import numpy as np"
      ],
      "metadata": {
        "id": "Xh7h2hT_-0i-"
      },
      "execution_count": 96,
      "outputs": []
    },
    {
      "cell_type": "code",
      "execution_count": 1,
      "metadata": {
        "id": "nlo7nThm2xkH"
      },
      "outputs": [],
      "source": [
        "raw_test_input = \"\"\"[({(<(())[]>[[{[]{<()<>>\n",
        "[(()[<>])]({[<{<<[]>>(\n",
        "{([(<{}[<>[]}>{[]{[(<()>\n",
        "(((({<>}<{<{<>}{[]{[]{}\n",
        "[[<[([]))<([[{}[[()]]]\n",
        "[{[{({}]{}}([{[{{{}}([]\n",
        "{<[[]]>}<{[{[{[]{()[[[]\n",
        "[<(<(<(<{}))><([]([]()\n",
        "<{([([[(<>()){}]>(<<{{\n",
        "<{([{{}}[<[[[<>{}]]]>[]]\"\"\""
      ]
    },
    {
      "cell_type": "code",
      "source": [
        "test_input = raw_test_input.split('\\n')"
      ],
      "metadata": {
        "id": "1MaKB7PB3Isa"
      },
      "execution_count": 68,
      "outputs": []
    },
    {
      "cell_type": "code",
      "source": [
        "def calculate_corrupt_points(input):\n",
        "  closing_chars = {\n",
        "      '(': ')',\n",
        "      '[': ']',\n",
        "      '{': '}',\n",
        "      '<': '>'\n",
        "  }\n",
        "\n",
        "  points = {\n",
        "      ')': 3,\n",
        "      ']': 57,\n",
        "      '}': 1197,\n",
        "      '>': 25137\n",
        "  }\n",
        "  closing = ')]}>'\n",
        "\n",
        "  stack = []\n",
        "  for char in input:\n",
        "    if char in closing:\n",
        "      if char != stack.pop():\n",
        "        return points[char] # corrupt\n",
        "    else:\n",
        "      stack.append(closing_chars[char])\n",
        "  return 0 # incomplete"
      ],
      "metadata": {
        "id": "7VWXWttx3Vjo"
      },
      "execution_count": 26,
      "outputs": []
    },
    {
      "cell_type": "markdown",
      "source": [
        "### Confirm working on test data"
      ],
      "metadata": {
        "id": "U5tSXFza-8aR"
      }
    },
    {
      "cell_type": "code",
      "source": [
        "c = 0\n",
        "for test in test_input:\n",
        "  c += calculate_corrupt_points(test)\n",
        "print(c)"
      ],
      "metadata": {
        "colab": {
          "base_uri": "https://localhost:8080/"
        },
        "id": "BDZrjbzB47Aw",
        "outputId": "1f8be657-6fa5-4484-9fbc-954d7d7f0b37"
      },
      "execution_count": 27,
      "outputs": [
        {
          "output_type": "stream",
          "name": "stdout",
          "text": [
            "26397\n"
          ]
        }
      ]
    },
    {
      "cell_type": "markdown",
      "source": [
        "### Using real data to get answer"
      ],
      "metadata": {
        "id": "wOuOQlox---m"
      }
    },
    {
      "cell_type": "code",
      "source": [
        "def read_file(filename = 'day10.txt'):\n",
        "  with open(filename) as f:\n",
        "    data = f.read().split('\\n')\n",
        "  return data"
      ],
      "metadata": {
        "id": "yyUWG8FR5qu5"
      },
      "execution_count": 31,
      "outputs": []
    },
    {
      "cell_type": "code",
      "source": [
        "real_data = read_file()\n",
        "\n",
        "c = 0\n",
        "for line in real_data:\n",
        "  c += calculate_corrupt_points(line)\n",
        "print(c)"
      ],
      "metadata": {
        "colab": {
          "base_uri": "https://localhost:8080/"
        },
        "id": "dB24olhz6Dil",
        "outputId": "0f93e6bc-e271-43ae-9997-798b24072d36"
      },
      "execution_count": 36,
      "outputs": [
        {
          "output_type": "stream",
          "name": "stdout",
          "text": [
            "343863\n"
          ]
        }
      ]
    },
    {
      "cell_type": "markdown",
      "source": [
        "# Part 2"
      ],
      "metadata": {
        "id": "g2LEytOr6mmn"
      }
    },
    {
      "cell_type": "code",
      "source": [
        "def calculate_autocomplete_points(input):\n",
        "  closing_chars = {\n",
        "      '(': ')',\n",
        "      '[': ']',\n",
        "      '{': '}',\n",
        "      '<': '>'\n",
        "  }\n",
        "\n",
        "  points = {\n",
        "      ')': 1,\n",
        "      ']': 2,\n",
        "      '}': 3,\n",
        "      '>': 4\n",
        "  }\n",
        "  closing = ')]}>'\n",
        "\n",
        "  stack = []\n",
        "  for char in input:\n",
        "    if char in closing:\n",
        "      if char != stack.pop():\n",
        "        return 0 # corrupt\n",
        "    else:\n",
        "      stack.append(closing_chars[char])\n",
        "  \n",
        "  # if we get this far the line is incomplete\n",
        "  score = 0\n",
        "  for x in range(len(stack)):\n",
        "    score = score * 5 + points[stack.pop()]\n",
        "\n",
        "  return score"
      ],
      "metadata": {
        "id": "Uojddogw6mFa"
      },
      "execution_count": 91,
      "outputs": []
    },
    {
      "cell_type": "markdown",
      "source": [
        "### Confirm working on test data"
      ],
      "metadata": {
        "id": "iZU46n4R_C-l"
      }
    },
    {
      "cell_type": "code",
      "source": [
        "scores = []\n",
        "for x in test_input:\n",
        "  scores.append(calculate_autocomplete_points(x))"
      ],
      "metadata": {
        "id": "PZy1nV6J66MQ"
      },
      "execution_count": 92,
      "outputs": []
    },
    {
      "cell_type": "code",
      "source": [
        "np.median([x for x in scores if x != 0])"
      ],
      "metadata": {
        "colab": {
          "base_uri": "https://localhost:8080/"
        },
        "id": "tvaQJTMD96sr",
        "outputId": "3910dd43-1e34-42e6-c150-d0866402bc8b"
      },
      "execution_count": 97,
      "outputs": [
        {
          "output_type": "execute_result",
          "data": {
            "text/plain": [
              "288957.0"
            ]
          },
          "metadata": {},
          "execution_count": 97
        }
      ]
    },
    {
      "cell_type": "markdown",
      "source": [
        "### Using real data to get answer"
      ],
      "metadata": {
        "id": "OqUxx-VZ_Fmt"
      }
    },
    {
      "cell_type": "code",
      "source": [
        "scores = []\n",
        "for x in real_data:\n",
        "  scores.append(calculate_autocomplete_points(x))"
      ],
      "metadata": {
        "id": "AnX7kEoQ-6fd"
      },
      "execution_count": 99,
      "outputs": []
    },
    {
      "cell_type": "code",
      "source": [
        "np.median([x for x in scores if x != 0])"
      ],
      "metadata": {
        "colab": {
          "base_uri": "https://localhost:8080/"
        },
        "id": "KNmgrRMx_KEM",
        "outputId": "68cac510-0757-4f7c-cdb1-b478cc8841ba"
      },
      "execution_count": 100,
      "outputs": [
        {
          "output_type": "execute_result",
          "data": {
            "text/plain": [
              "2924734236.0"
            ]
          },
          "metadata": {},
          "execution_count": 100
        }
      ]
    }
  ]
}