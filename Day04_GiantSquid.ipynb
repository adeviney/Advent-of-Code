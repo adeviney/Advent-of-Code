{
  "nbformat": 4,
  "nbformat_minor": 0,
  "metadata": {
    "colab": {
      "name": "Day4_GiantSquid.ipynb",
      "provenance": [],
      "collapsed_sections": [],
      "authorship_tag": "ABX9TyPD8d2Zo+NEI7ojOndS5eft",
      "include_colab_link": true
    },
    "kernelspec": {
      "name": "python3",
      "display_name": "Python 3"
    },
    "language_info": {
      "name": "python"
    }
  },
  "cells": [
    {
      "cell_type": "markdown",
      "metadata": {
        "id": "view-in-github",
        "colab_type": "text"
      },
      "source": [
        "<a href=\"https://colab.research.google.com/github/adeviney/Advent-of-Code/blob/main/Day4_GiantSquid.ipynb\" target=\"_parent\"><img src=\"https://colab.research.google.com/assets/colab-badge.svg\" alt=\"Open In Colab\"/></a>"
      ]
    },
    {
      "cell_type": "markdown",
      "source": [
        "# Day 4: Giant Squid\n",
        " - Alexis Deviney\n",
        " - 3/30/2022"
      ],
      "metadata": {
        "id": "LAfIgheyxwWm"
      }
    },
    {
      "cell_type": "code",
      "source": [
        "import numpy as np"
      ],
      "metadata": {
        "id": "AuXL20uzHQLT"
      },
      "execution_count": 182,
      "outputs": []
    },
    {
      "cell_type": "code",
      "source": [
        "def parse_file(filename = 'bingoinput.txt'):\n",
        "\n",
        "  ### Parses the file into an array of called numbers and 2-d np array of cards\n",
        "  f = open(filename)\n",
        "  lines = [line.strip() for line in f.read().strip().split(\"\\n\")]\n",
        "  numbers = [int(i) for i in lines[0].split(',')]\n",
        "  lines = lines[2:]\n",
        "\n",
        "\n",
        "  cards = [[int(n) for n in i.split()] for i in lines if i != '']\n",
        "  cards = np.array(cards, dtype = int)\n",
        "  length = int(cards.shape[0]/5)\n",
        "  cards = np.split(cards, length)\n",
        "  return numbers, cards"
      ],
      "metadata": {
        "id": "jlg5U-mbB4mu"
      },
      "execution_count": 183,
      "outputs": []
    },
    {
      "cell_type": "code",
      "source": [
        "class BingoCard:\n",
        "  def __init__(self, card_numbers):\n",
        "    self.grid = card_numbers\n",
        "    self.bingo = False\n",
        "\n",
        "  def markCard(self, number):\n",
        "    self.grid = np.where(self.grid == number, -1, self.grid)\n",
        "\n",
        "  def markWinner(self):\n",
        "    if any(np.sum(self.grid, axis = 0) == -5):\n",
        "      self.bingo = True\n",
        "    elif any(np.sum(self.grid, axis = 1) == -5):\n",
        "      self.bingo = True\n",
        "    if (self.bingo):\n",
        "      self.grid = np.where(self.grid == -1, 0, self.grid)\n",
        "      return True\n",
        "    return False"
      ],
      "metadata": {
        "id": "2pTjLVJnodiD"
      },
      "execution_count": 184,
      "outputs": []
    },
    {
      "cell_type": "code",
      "source": [
        "numbers, cards = parse_file()\n",
        "bingo_cards = [BingoCard(x) for x in cards]\n",
        "winners = []\n",
        "winning_numbers = []\n",
        "for num in numbers:\n",
        "  for card in list(bingo_cards):\n",
        "    card.markCard(num)\n",
        "    if (card.markWinner()):\n",
        "      winners.append(card)\n",
        "      bingo_cards.remove(card)\n",
        "      winning_numbers.append(num)\n",
        "\n",
        "#answer to part 1\n",
        "np.sum(winners[0].grid)  * winning_numbers[0]\n",
        "\n",
        "#answer to part 2\n",
        "np.sum(winners[-1].grid) * winning_numbers[-1]"
      ],
      "metadata": {
        "colab": {
          "base_uri": "https://localhost:8080/"
        },
        "id": "8UDdSxYunTf2",
        "outputId": "a9eaa9ae-3af9-46a6-a2ab-133930416124"
      },
      "execution_count": 185,
      "outputs": [
        {
          "output_type": "execute_result",
          "data": {
            "text/plain": [
              "20774"
            ]
          },
          "metadata": {},
          "execution_count": 185
        }
      ]
    }
  ]
}