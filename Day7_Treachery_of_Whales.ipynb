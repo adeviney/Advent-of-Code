{
  "nbformat": 4,
  "nbformat_minor": 0,
  "metadata": {
    "colab": {
      "name": "Day7_Treachery_of_Whales.ipynb",
      "provenance": [],
      "collapsed_sections": [],
      "authorship_tag": "ABX9TyNVjTyaY2k4uiFuGNKgtLGH",
      "include_colab_link": true
    },
    "kernelspec": {
      "name": "python3",
      "display_name": "Python 3"
    },
    "language_info": {
      "name": "python"
    }
  },
  "cells": [
    {
      "cell_type": "markdown",
      "metadata": {
        "id": "view-in-github",
        "colab_type": "text"
      },
      "source": [
        "<a href=\"https://colab.research.google.com/github/adeviney/Advent-of-Code/blob/main/Day7_Treachery_of_Whales.ipynb\" target=\"_parent\"><img src=\"https://colab.research.google.com/assets/colab-badge.svg\" alt=\"Open In Colab\"/></a>"
      ]
    },
    {
      "cell_type": "markdown",
      "source": [
        "# Day 7: The Treachery of Whales\n"
      ],
      "metadata": {
        "id": "wC8tctxm0wsx"
      }
    },
    {
      "cell_type": "code",
      "source": [
        "from statistics import mode, median, mean\n",
        "import matplotlib.pyplot as plt\n",
        "import seaborn as sns"
      ],
      "metadata": {
        "id": "f4QfxqCM1sTK"
      },
      "execution_count": 6,
      "outputs": []
    },
    {
      "cell_type": "code",
      "source": [
        "def read_file(filename = 'day7input.txt'):\n",
        "  with open(filename) as f:\n",
        "    nums = [int (x) for x in f.read().split(',')]\n",
        "  return nums"
      ],
      "metadata": {
        "id": "4eVPLx2L6fzd"
      },
      "execution_count": 7,
      "outputs": []
    },
    {
      "cell_type": "markdown",
      "source": [
        "## Part 1"
      ],
      "metadata": {
        "id": "LB9cTvYewnIM"
      }
    },
    {
      "cell_type": "code",
      "source": [
        "def fuel_usage(h_positions, num):\n",
        "  sum =0 \n",
        "  for x in h_positions:\n",
        "    sum += abs(x - num)\n",
        "  return sum"
      ],
      "metadata": {
        "id": "ZPL7bdZu2UWL"
      },
      "execution_count": 8,
      "outputs": []
    },
    {
      "cell_type": "code",
      "execution_count": 9,
      "metadata": {
        "id": "NPJ33jHC0s-M"
      },
      "outputs": [],
      "source": [
        "test_data = [16,1,2,0,4,2,7,1,2,14]"
      ]
    },
    {
      "cell_type": "code",
      "source": [
        "real_data = read_file()"
      ],
      "metadata": {
        "id": "wsyJc3jc4aGq"
      },
      "execution_count": 10,
      "outputs": []
    },
    {
      "cell_type": "code",
      "source": [
        "NUM = max(real_data)\n",
        "x = range(NUM)\n",
        "y = [fuel_usage(real_data, x) for x in range(NUM)]\n",
        "plt.plot(x, y)"
      ],
      "metadata": {
        "colab": {
          "base_uri": "https://localhost:8080/",
          "height": 294
        },
        "id": "9V9usW6o25RK",
        "outputId": "e8c42d0a-4cb7-4273-8cae-a4ee90119273"
      },
      "execution_count": 11,
      "outputs": [
        {
          "output_type": "execute_result",
          "data": {
            "text/plain": [
              "[<matplotlib.lines.Line2D at 0x7f40f18dd910>]"
            ]
          },
          "metadata": {},
          "execution_count": 11
        },
        {
          "output_type": "display_data",
          "data": {
            "text/plain": [
              "<Figure size 432x288 with 1 Axes>"
            ],
            "image/png": "[encoded data removed]"
          },
          "metadata": {
            "needs_background": "light"
          }
        }
      ]
    },
    {
      "cell_type": "code",
      "source": [
        "# minimum fuel usage\n",
        "min(y)"
      ],
      "metadata": {
        "colab": {
          "base_uri": "https://localhost:8080/"
        },
        "id": "DVe4gNLv7-VJ",
        "outputId": "7cf94601-0a5d-467c-f333-1a4ecece5460"
      },
      "execution_count": 12,
      "outputs": [
        {
          "output_type": "execute_result",
          "data": {
            "text/plain": [
              "336721"
            ]
          },
          "metadata": {},
          "execution_count": 12
        }
      ]
    },
    {
      "cell_type": "code",
      "source": [
        "# at this horizontal position\n",
        "y.index(min(y))"
      ],
      "metadata": {
        "colab": {
          "base_uri": "https://localhost:8080/"
        },
        "id": "dvZ2WEDo7hI4",
        "outputId": "bd54fd87-a339-426c-e399-3273b5c1d018"
      },
      "execution_count": 13,
      "outputs": [
        {
          "output_type": "execute_result",
          "data": {
            "text/plain": [
              "316"
            ]
          },
          "metadata": {},
          "execution_count": 13
        }
      ]
    },
    {
      "cell_type": "markdown",
      "source": [
        "## Part 2"
      ],
      "metadata": {
        "id": "hE3Yo60Zwki_"
      }
    },
    {
      "cell_type": "markdown",
      "source": [
        "![image.png](data:image/png;base64,iVBORw0KGgoAAAANSUhEUgAAAcIAAABNCAYAAAA1iWT8AAAKbUlEQVR4nO3drXfjxhrH8V/bJQtduFCFhbqw0AsLXdjLHHgvc+GFDiz00rLkT3BoWfInOPSyhC7bgtFzNJb1MiPrxZK+n3N8shuPlbHG1qN5lwAAQ0glPY+diQVYS3qQtBo7IwCAXCrplP1E/7ZyNx0EQwC4AYmkN0mbsTOyMHtRAweAm/Asd1FGezu5m4lYnHsAGNle7gJOE12clVxf316uSflb9oiVZq+jNg4AI7AmUWok4dbKg96bpINcra5tIFR2jJO4GQGAwR00n9pg26bJWFYTTLzfHXVdIEyy13JDAgADWimv0czBXu0D0bWuDYR2jMpA/v0VBwYAlNvIBcOnsTMCSdKjXHlsy54kEAJA92xwxuOouYCxcliXPUkgBIBuWT8XtcHb8S7pRRWjRwmEAJbIJlufsn/7A1oS7/ljluao8CH4Vut4uZH8wLEbk9JaIQAsyV5uFKTkgsk35YNatnJBpnixfFD4fDQbWFLaHzVCfrow9cEykjvHjB4FsHgruRqV/3+7yO7kAlDZdAcLUCFLdlmQCql5DJGfLswhENocxYfiEx+uPDAATMlG5wNY0sJzn+X6k4rsdyGLZlvgKjvOGPnBuYsbC/oIASxJcRCLX2u7U3XwSip+X8aCU0gf4RD5gWPn+eLmgUAIYEkSnQceuyg+qT5w+emaxKwkM0R+cG4OK/0AQGf8/rg6tvBzyECLa/qz+shP0zH6enTVbNtVH6GqjkMfIYCl8pshm2pf1hTZZw1s6PzcK7yJNZXL333E8V+jcwQAGJSNhGxaTDo0nWlbe+krP12Yw6hRVR2HPkIASxXazxa7XFrIaNEyfeUH5y7Kh0AIYKlCVoDxtwTyA0/lAs7e8WL7yPrKD5zK80sgBLBEfn9cXQ3Mal+vhXQbVfevWY0jZnRin/nBOWqEAKA88NhizFWqmiE3kr5UvMYGicTUCPvMDxwrj4tBPARCAEtkgaepP85qdcVJ76+qHhVpgaxNjbCP/MApO3cAsFih8/UOOl/cOpUbxVgX5Gy90OON5KcLQ44aXXsP+7v2eJB77/Z8TK37WRHvYS13sv3Jlm9ZBvzO2FTDDt+dqkTufD4rL4gHsUYgMKaT3PexKYCslF8Pn1W9CHZR1EV3gPxca8hAGDNpP/Rmw25OLhbcLmN3G3udX6hTuTuVU/bYKA+UqLaVu1mwLVVs9fOh5wDN2U6cS9we2/JnLnsGjjmPsAtbBW6NZVuHNNVULFh2NcFxrizoFe9YbHLo4eIVCGG7f+913moB3BKrgczlez71QGgbGteyaBm6bp0FzSmfmL7ZOWJuTzeKtWlrbh7yc8jnHTEOcp/VOSzyPOWWl0SB8c3urEPnoazkTgoXhmpdLzy7dFYT9D+jXS69FILPO2IkctdJdkQfl/Wp1t6QpGp3MbEmUpSjxty/IQOh1UiBGHvNp1Y4RRbfGvtq/SanmJUJNuLCUIdA2L8hA+HU+0gwnmdRKxxL8Ln3A2FMYVlnMMoRCPs3VCC0Ji7KE23Y52cuI0inwsYRBLMv+Zvi+rQYCFKNQNi/IQJhouEH5WB+Url+KsYMDGOrsHmZZ4qz9/dqv4DrXu4CdVR+ASmraYamS7x0R7lg7U9J2BaOc1L5JNOqdF0uVBsyAdSWUnrw8lOck7lTPgHf5m3WsUn7p8Ix697flM5rlT4DoS0sEVOmVdqUTxsbnZdp8Tu1U1iZoh+pImsoaGUtd32N/lyvdD4nq7iizE7hdzJbXc7xKgtwoemS7Pf+Rcku2IeS19hUkDflF5mmdF1dCPylgSyvh8Lv7W/tVT4X7qB87pFfE6m6YNpNzL7wPlaF54qmdF6r9BkIE+Vl5p+jdcmj7n22LZ82bH6ln1/7u2V9JUOWFXCzvvP+ncoFvbo71He5Fc7v1bz5ZKJ8AuO9pD8q0tlUjKZ0kvsi7+QWTX2RW2S2bMX1Z7n38yXLZ0i6u5q/24ZdnJvek//+P8u9v8/Z//0L1L90uSr9Qe5idqfqlee3Wbq69zil8+o7Kq+NfVeX8Ep2fmL/Tlfl04bl+V7uu/hUkYeuymql5nUyr/Eu916A3tldqvUZVj1C215DB+GEprM76JPq14xrk65rMQOQ/BqZ38xmTV1VTctW42xS1kxWdqwpnFffUINl/K6D2Nd0UT5t2N8/apiy8qdh9fGY6mRuTEBxG6Z3udrLj3I1kD/k7hSL23vYiudjSXS5H9e16W6B3bmbR7naYbFGmSi/+w7ZUsRqAjvVv9e5nteh9VU+baw1TFm9yNWW+3r8eGX+gEp1+xG+yDVF3En6KXv4TROpxp0bE7qn1JT2nqrbkNPnj9YNeY2fpmmk7xzP69D6LJ82KCugxoeItK9yNZNX5c09G9X3f/WpqY8yNt0tCN1Y028+DXmNn6ZphOMcz+vQ+iyfNigrZ8xWLNywD3J9fYnCayNf5GqD2+x1idgZeWjXzEViHlP/KJ/b1MdNBmbge7Vr4vRHny21HwjAtPTZh8ljwg9rGo0NZqG1R/TjVe1vQKi9d++b3BfKLLF8mD6ByfIDYdsmToLi8J6UD6oIKTe/uY2BE/1bYvn4I2X7QCBEb/xRozEfYlvy60nXd8TTJxLPHw4f0u/hn+OQofS4zhLLh+kTmCw/EG4VPnTb0lWtlmFCapisyB7vSfkFM+T8WZpHTbfGMSb/c1xcSKKsxkf5ABNSnEdoa0c2rZ24lguCTXev9qWuOl4idxGgeTXendx5W6v+BmabpXlRv8udzVldDW+t8uBF+QAT8YNcMPpd7ov4l1wTqU2N+FnSR+ULEO+ztKHrEv6dve7X7N/F+VIHSf+W9Ev2N36R9Cn7qSz9Kvt/mv3tT9lzH7OfK0n/D0jn37mvA9PFWmev33rv4ZOkr1n+LK+xact8VX6B3mf5f8l+r+z1/8uee5T0m86bsad0Xo2dMztvv3vP/Zz9/JQ933T+YnzNjvWr8lV1rJz+lPRfXXYRXFs+bSRy5z+V9B/lN6AfvTTvAem6PHfAJKx1vnaodXr72wP5O1HEzsWx9Utt2xfbBsbfgsbWWvS3kLHmIn8nh7LHMTCdv05kaLpYTcc9tkzbJFX1Nj9V5TWl8xp6/LbnL5Rt72JbVh0V1sfdpnzaKG6nVnzsA9Mx8RwAAAAAAAAAMAN+s741gdtmzawOBgCYNeufthH/a7lxIP4YkDF3EgIAoDcH1W8OfVAeDEM2kQYAYDK2cs2hdVY6rxmywAkAYDYe5PoBD6pfJGWn835DAABmwZ8bWtfsmRbS1gXNWSousQYAmIfiSlJViktcshECAGAWtnLTJU5qDm5+jbDL1Y4AALh5ic4D4eLmFdI0CgDL5tcAX3T94vgAAEyKbXrA9AkAwOL4u8swoR4AsDjPyucPLm7aBABg2WxfSoIgAGBxtiIIAgAWKpWbX9i09BoAALPjB0EAABbFdpqo23swFbVEAMAMreT6A7cN6U5a4MoyAID5CwmCK7kBNAAAzMpBzUFQWZpjz3m5SR/GzgAAoDcHuWXTEjUvn7aW9KX3HAEAMBCbKxjzqBtIAwDApMQGwcUuuv0P5lhEIizV8d8AAAAASUVORK5CYII=)\n",
        "\n",
        "Image Credit: https://betterexplained.com/articles/techniques-for-adding-the-numbers-1-to-100/"
      ],
      "metadata": {
        "id": "RBB2RHKgwwo6"
      }
    },
    {
      "cell_type": "code",
      "source": [
        "def fuel_usage(h_positions, num):\n",
        "  sum =0 \n",
        "  for x in h_positions:\n",
        "    sum += abs(x - num) * (abs(x - num) + 1)/2\n",
        "  return sum"
      ],
      "metadata": {
        "id": "YXhY4w-p8ThO"
      },
      "execution_count": 14,
      "outputs": []
    },
    {
      "cell_type": "code",
      "source": [
        "NUM = max(real_data)\n",
        "x = range(NUM)\n",
        "y = [fuel_usage(real_data, x) for x in range(NUM)]\n",
        "plt.plot(x, y)"
      ],
      "metadata": {
        "colab": {
          "base_uri": "https://localhost:8080/",
          "height": 294
        },
        "id": "lv6VYbB6_6Up",
        "outputId": "c363241b-297c-4745-e999-336c8ef0db40"
      },
      "execution_count": 15,
      "outputs": [
        {
          "output_type": "execute_result",
          "data": {
            "text/plain": [
              "[<matplotlib.lines.Line2D at 0x7f40f20f63d0>]"
            ]
          },
          "metadata": {},
          "execution_count": 15
        },
        {
          "output_type": "display_data",
          "data": {
            "text/plain": [
              "<Figure size 432x288 with 1 Axes>"
            ],
            "image/png": "[encoded data removed]"
          },
          "metadata": {
            "needs_background": "light"
          }
        }
      ]
    },
    {
      "cell_type": "code",
      "source": [
        "#minimum fuel usage\n",
        "min(y)"
      ],
      "metadata": {
        "colab": {
          "base_uri": "https://localhost:8080/"
        },
        "id": "L41jTdgAxE1B",
        "outputId": "6eb34d28-3026-4a09-d764-23f57dd662f4"
      },
      "execution_count": 16,
      "outputs": [
        {
          "output_type": "execute_result",
          "data": {
            "text/plain": [
              "91638945.0"
            ]
          },
          "metadata": {},
          "execution_count": 16
        }
      ]
    },
    {
      "cell_type": "code",
      "source": [
        "# at this horizontal position\n",
        "y.index(min(y))"
      ],
      "metadata": {
        "colab": {
          "base_uri": "https://localhost:8080/"
        },
        "id": "XZZMfXuP-8ND",
        "outputId": "8c030968-484d-4798-f6bb-73a17dda5407"
      },
      "execution_count": 17,
      "outputs": [
        {
          "output_type": "execute_result",
          "data": {
            "text/plain": [
              "466"
            ]
          },
          "metadata": {},
          "execution_count": 17
        }
      ]
    },
    {
      "cell_type": "markdown",
      "source": [
        "## Another way (not brute force)\n",
        "So it appears there is just one minimum on the graph -- this is the point at which the fuel usage is the smallest. I should be able to find this point and minimize the amount of checks I have to do.\n",
        "\n",
        "First I will start at the median and check the fuel cost of the positions immediately to the left and right.\n",
        "\n",
        "If the fuel cost of the median is the smallest, we found the answer immediately.\n",
        "\n",
        "If not, we note whether going to the left or right yielded a smaller answer. That direction is the direction in which we will find the minima, so will continue to go in that direction until we reach a point that is lower than it subsequent point (this will be the minimum)"
      ],
      "metadata": {
        "id": "kduMkicVxRIv"
      }
    },
    {
      "cell_type": "code",
      "source": [
        "def find_minimum_fuel(data):\n",
        "  x = median(data)\n",
        "  y = x - 1 # immediately to the left of median\n",
        "  z = x + 1 # immediately to the right of median\n",
        "\n",
        "  x_fuel = fuel_usage(data, x)\n",
        "  y_fuel = fuel_usage(data, y)\n",
        "  z_fuel = fuel_usage(data, z)\n",
        "  fuel_checks = 3\n",
        "\n",
        "  if min(x_fuel, y_fuel, z_fuel) == x_fuel:\n",
        "    print(\"the median is the answer\")\n",
        "    return x_fuel\n",
        "  elif (z_fuel < x_fuel):\n",
        "    change = 1\n",
        "    previous = z\n",
        "  else:\n",
        "    change = -1\n",
        "    previous = y\n",
        "\n",
        "  fuel_previous = fuel_usage(data, previous)\n",
        "  new = fuel_usage(data, previous + change)\n",
        "  fuel_checks += 2\n",
        "  \n",
        "  while(fuel_previous > new):\n",
        "    previous += change\n",
        "    fuel_previous = new\n",
        "    new = fuel_usage(data, previous + change)\n",
        "    fuel_checks += 1\n",
        "\n",
        "  print(f\"This function found the answer in {fuel_checks} checks compared to {len(data)} checks with brute force above\")\n",
        "  return fuel_usage(data, previous)"
      ],
      "metadata": {
        "id": "w6FeNtW86Pg7"
      },
      "execution_count": 18,
      "outputs": []
    },
    {
      "cell_type": "code",
      "source": [
        "find_minimum_fuel(real_data)"
      ],
      "metadata": {
        "colab": {
          "base_uri": "https://localhost:8080/"
        },
        "id": "EygoMy5JFFug",
        "outputId": "dc3fa7a6-b3a8-40d6-b4cf-6b6d07e6e9c8"
      },
      "execution_count": 19,
      "outputs": [
        {
          "output_type": "stream",
          "name": "stdout",
          "text": [
            "This function found the answer in 154 checks compared to 1000 checks with brute force above\n"
          ]
        },
        {
          "output_type": "execute_result",
          "data": {
            "text/plain": [
              "91638945.0"
            ]
          },
          "metadata": {},
          "execution_count": 19
        }
      ]
    }
  ]
}