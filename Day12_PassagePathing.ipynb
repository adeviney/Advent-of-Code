{
  "nbformat": 4,
  "nbformat_minor": 0,
  "metadata": {
    "colab": {
      "name": "Day12_PassagePathing.ipynb",
      "provenance": [],
      "authorship_tag": "ABX9TyN1Vmm9c8KCJDTmJsNxib24",
      "include_colab_link": true
    },
    "kernelspec": {
      "name": "python3",
      "display_name": "Python 3"
    },
    "language_info": {
      "name": "python"
    }
  },
  "cells": [
    {
      "cell_type": "markdown",
      "metadata": {
        "id": "view-in-github",
        "colab_type": "text"
      },
      "source": [
        "<a href=\"https://colab.research.google.com/github/adeviney/Advent-of-Code/blob/main/Day12_PassagePathing.ipynb\" target=\"_parent\"><img src=\"https://colab.research.google.com/assets/colab-badge.svg\" alt=\"Open In Colab\"/></a>"
      ]
    },
    {
      "cell_type": "markdown",
      "source": [
        "# Day 12: Passage Pathing"
      ],
      "metadata": {
        "id": "EsdJGFpGd1yp"
      }
    },
    {
      "cell_type": "markdown",
      "source": [
        "## Test with Examples Given"
      ],
      "metadata": {
        "id": "dq09UoR6emgn"
      }
    },
    {
      "cell_type": "code",
      "execution_count": 23,
      "metadata": {
        "id": "_iBpHN_Lduiu"
      },
      "outputs": [],
      "source": [
        "example = \"\"\"start-A\n",
        "start-b\n",
        "A-c\n",
        "A-b\n",
        "b-d\n",
        "A-end\n",
        "b-end\"\"\""
      ]
    },
    {
      "cell_type": "code",
      "source": [
        "def parse(string_input):\n",
        "    if string_input[-4:] == \".txt\":\n",
        "        with open(string_input) as f:\n",
        "            string_input = f.read()\n",
        "    string_input = string_input.strip()\n",
        "    adjlist = {}\n",
        "    for edge in string_input.split('\\n'):\n",
        "        [x, y]  = edge.split('-')\n",
        "        if x in adjlist.keys():\n",
        "            adjlist[x].append(y)\n",
        "        else:\n",
        "            adjlist[x] = [y]\n",
        "        if y in adjlist.keys():\n",
        "            adjlist[y].append(x)\n",
        "        else:\n",
        "            adjlist[y] = [x]\n",
        "    return adjlist"
      ],
      "metadata": {
        "id": "FMFf0z7ofw4f"
      },
      "execution_count": 42,
      "outputs": []
    },
    {
      "cell_type": "code",
      "source": [
        "adjlist = parse(example)"
      ],
      "metadata": {
        "id": "R_vFBrH_guZn"
      },
      "execution_count": 28,
      "outputs": []
    },
    {
      "cell_type": "code",
      "source": [
        "def num_paths(adjlist, path = None):\n",
        "    if path == None:\n",
        "        path = ['start']\n",
        "    num_p = 0\n",
        "    for cave in adjlist[path[-1]]:\n",
        "        if cave.upper() == cave or cave not in path:\n",
        "            if cave == 'end':\n",
        "                num_p += 1\n",
        "            else:\n",
        "                num_p += num_paths(adjlist, path + [cave])\n",
        "    return num_p"
      ],
      "metadata": {
        "id": "kFuZXuHcofKz"
      },
      "execution_count": 27,
      "outputs": []
    },
    {
      "cell_type": "code",
      "source": [
        "num_paths(adjlist)"
      ],
      "metadata": {
        "colab": {
          "base_uri": "https://localhost:8080/"
        },
        "id": "M_N8FfensH5p",
        "outputId": "37356016-ff8b-429a-d36b-e80f399640be"
      },
      "execution_count": 29,
      "outputs": [
        {
          "output_type": "execute_result",
          "data": {
            "text/plain": [
              "10"
            ]
          },
          "metadata": {},
          "execution_count": 29
        }
      ]
    },
    {
      "cell_type": "code",
      "source": [
        "# second example\n",
        "example2 = \"\"\"dc-end\n",
        "HN-start\n",
        "start-kj\n",
        "dc-start\n",
        "dc-HN\n",
        "LN-dc\n",
        "HN-end\n",
        "kj-sa\n",
        "kj-HN\n",
        "kj-dc\"\"\""
      ],
      "metadata": {
        "id": "fXSY2P33elz3"
      },
      "execution_count": 30,
      "outputs": []
    },
    {
      "cell_type": "code",
      "source": [
        "adjlist2 = parse(example2)"
      ],
      "metadata": {
        "id": "CKMhG86leyNk"
      },
      "execution_count": 31,
      "outputs": []
    },
    {
      "cell_type": "code",
      "source": [
        "num_paths(adjlist2)"
      ],
      "metadata": {
        "colab": {
          "base_uri": "https://localhost:8080/"
        },
        "id": "Cq8t-ZYJe74n",
        "outputId": "0c2d6b7f-d7d6-4df6-80d0-d9849cb7f014"
      },
      "execution_count": 32,
      "outputs": [
        {
          "output_type": "execute_result",
          "data": {
            "text/plain": [
              "19"
            ]
          },
          "metadata": {},
          "execution_count": 32
        }
      ]
    },
    {
      "cell_type": "code",
      "source": [
        "# third example\n",
        "example3 = \"\"\"fs-end\n",
        "he-DX\n",
        "fs-he\n",
        "start-DX\n",
        "pj-DX\n",
        "end-zg\n",
        "zg-sl\n",
        "zg-pj\n",
        "pj-he\n",
        "RW-he\n",
        "fs-DX\n",
        "pj-RW\n",
        "zg-RW\n",
        "start-pj\n",
        "he-WI\n",
        "zg-he\n",
        "pj-fs\n",
        "start-RW\"\"\""
      ],
      "metadata": {
        "id": "1NbebFu_gIRF"
      },
      "execution_count": 34,
      "outputs": []
    },
    {
      "cell_type": "code",
      "source": [
        "adjlist3 = parse(example3)\n",
        "num_paths(adjlist3)"
      ],
      "metadata": {
        "colab": {
          "base_uri": "https://localhost:8080/"
        },
        "id": "KYu368M9gN4_",
        "outputId": "3d514b0e-ff93-4e09-a0ac-171610b2dd51"
      },
      "execution_count": 36,
      "outputs": [
        {
          "output_type": "execute_result",
          "data": {
            "text/plain": [
              "226"
            ]
          },
          "metadata": {},
          "execution_count": 36
        }
      ]
    },
    {
      "cell_type": "markdown",
      "source": [
        "## Part 1"
      ],
      "metadata": {
        "id": "OCG4qvXDhXKA"
      }
    },
    {
      "cell_type": "code",
      "source": [
        "part1adj = parse('/content/InputFiles/day12input.txt')"
      ],
      "metadata": {
        "id": "On50lThsg9Rh"
      },
      "execution_count": 45,
      "outputs": []
    },
    {
      "cell_type": "code",
      "source": [
        "num_paths(part1adj)"
      ],
      "metadata": {
        "colab": {
          "base_uri": "https://localhost:8080/"
        },
        "id": "ZcmuaxUThWnm",
        "outputId": "7ec52a7c-0598-44af-d625-5c12055b1f10"
      },
      "execution_count": 46,
      "outputs": [
        {
          "output_type": "execute_result",
          "data": {
            "text/plain": [
              "4378"
            ]
          },
          "metadata": {},
          "execution_count": 46
        }
      ]
    },
    {
      "cell_type": "markdown",
      "source": [
        "## Part 2\n"
      ],
      "metadata": {
        "id": "cPg8hUMthko9"
      }
    },
    {
      "cell_type": "code",
      "source": [
        ""
      ],
      "metadata": {
        "id": "hnBYXKGWh1Wh"
      },
      "execution_count": null,
      "outputs": []
    }
  ]
}