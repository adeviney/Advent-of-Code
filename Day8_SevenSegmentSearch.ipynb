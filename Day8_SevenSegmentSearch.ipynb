{
  "nbformat": 4,
  "nbformat_minor": 0,
  "metadata": {
    "colab": {
      "name": "Day8_SevenSegmentSearch.ipynb",
      "provenance": [],
      "collapsed_sections": [],
      "authorship_tag": "ABX9TyN9tjSbA/pTObv7jPOjaPIR",
      "include_colab_link": true
    },
    "kernelspec": {
      "name": "python3",
      "display_name": "Python 3"
    },
    "language_info": {
      "name": "python"
    }
  },
  "cells": [
    {
      "cell_type": "markdown",
      "metadata": {
        "id": "view-in-github",
        "colab_type": "text"
      },
      "source": [
        "<a href=\"https://colab.research.google.com/github/adeviney/Advent-of-Code/blob/main/Day8_SevenSegmentSearch.ipynb\" target=\"_parent\"><img src=\"https://colab.research.google.com/assets/colab-badge.svg\" alt=\"Open In Colab\"/></a>"
      ]
    },
    {
      "cell_type": "markdown",
      "source": [
        "# Day 8: Seven Segment Search\n"
      ],
      "metadata": {
        "id": "xEKi8VfRJUaE"
      }
    },
    {
      "cell_type": "markdown",
      "source": [
        "## Part 1"
      ],
      "metadata": {
        "id": "7i3hjll3ilFY"
      }
    },
    {
      "cell_type": "code",
      "execution_count": 1,
      "metadata": {
        "id": "xXsn5AicGuF9"
      },
      "outputs": [],
      "source": [
        "def read_file(filename = 'day8input.txt'):\n",
        "  with open(filename) as f:\n",
        "    data = [x.strip()\n",
        "    for line in f.read().split('\\n')\n",
        "      for x in line.split('|')]\n",
        "  return data"
      ]
    },
    {
      "cell_type": "code",
      "source": [
        "def count_unique_char(str):\n",
        "  return len(set(str))"
      ],
      "metadata": {
        "id": "QpoyyAswVHph"
      },
      "execution_count": 2,
      "outputs": []
    },
    {
      "cell_type": "code",
      "source": [
        "class Entry:\n",
        "  def __init__(self, signal_data):\n",
        "    # ten unique signal patterns (sp)\n",
        "    self.sp = [''.join(sorted(digit)) for digit in signal_data[0].split(' ')]\n",
        "\n",
        "    #four digit output value (fdov)\n",
        "    self.fdov = [''.join(sorted(digit)) for digit in signal_data[1].split(' ')]\n",
        "\n",
        "    self.mapping = {0: '',\n",
        "                    1: '',\n",
        "                    2: '', \n",
        "                    3: '', \n",
        "                    4: '',\n",
        "                    5: '',\n",
        "                    6: '',\n",
        "                    7: '', \n",
        "                    8: '',\n",
        "                    9: ''}\n",
        "\n",
        "\n",
        "    self.possible_numbers = {2: [1],\n",
        "                             3: [7],\n",
        "                             4: [4],\n",
        "                             5: [2, 3, 5],\n",
        "                             6: [0, 6, 9],\n",
        "                             7: [8]}\n",
        "\n",
        "  def count_1478(self):\n",
        "    sum = 0\n",
        "    for digit in self.fdov:\n",
        "      num_uniq = count_unique_char(digit)\n",
        "      poss_num = self.possible_numbers[num_uniq]\n",
        "      if (len(poss_num) == 1):\n",
        "        sum += 1\n",
        "        self.mapping[poss_num[0]] = digit\n",
        "    return sum\n",
        "\n",
        "  def map(self):\n",
        "    for digit in self.sp:\n",
        "      num_uniq = count_unique_char(digit)\n",
        "      poss_num = self.possible_numbers[num_uniq]\n",
        "      if (len(poss_num) == 1):\n",
        "        self.mapping[poss_num[0]] = digit"
      ],
      "metadata": {
        "id": "-oGItl8DROgW"
      },
      "execution_count": 35,
      "outputs": []
    },
    {
      "cell_type": "code",
      "source": [
        "raw_test_data = \\\n",
        "\"\"\"be cfbegad cbdgef fgaecd cgeb fdcge agebfd fecdb fabcd edb |\n",
        "fdgacbe cefdb cefbgd gcbe\n",
        "edbfga begcd cbg gc gcadebf fbgde acbgfd abcde gfcbed gfec |\n",
        "fcgedb cgb dgebacf gc\n",
        "fgaebd cg bdaec gdafb agbcfd gdcbef bgcad gfac gcb cdgabef |\n",
        "cg cg fdcagb cbg\n",
        "fbegcd cbd adcefb dageb afcb bc aefdc ecdab fgdeca fcdbega |\n",
        "efabcd cedba gadfec cb\n",
        "aecbfdg fbg gf bafeg dbefa fcge gcbea fcaegb dgceab fcbdga |\n",
        "gecf egdcabf bgf bfgea\n",
        "fgeab ca afcebg bdacfeg cfaedg gcfdb baec bfadeg bafgc acf |\n",
        "gebdcfa ecba ca fadegcb\n",
        "dbcfg fgd bdegcaf fgec aegbdf ecdfab fbedc dacgb gdcebf gf |\n",
        "cefg dcbef fcge gbcadfe\n",
        "bdfegc cbegaf gecbf dfcage bdacg ed bedf ced adcbefg gebcd |\n",
        "ed bcgafe cdgba cbgef\n",
        "egadfb cdbfeg cegd fecab cgb gbdefca cg fgcdab egfdb bfceg |\n",
        "gbdfcae bgc cg cgb\n",
        "gcafb gcf dcaebfg ecagb gf abcdeg gaef cafbge fdbac fegbdc |\n",
        "fgae cfgab fg bagce\"\"\""
      ],
      "metadata": {
        "id": "Dz1Bdnwog-2x"
      },
      "execution_count": 6,
      "outputs": []
    },
    {
      "cell_type": "code",
      "source": [
        "test_data = [x.strip()\n",
        "    for line in raw_test_data.split('\\n')\n",
        "      for x in line.split('|') if x != '']"
      ],
      "metadata": {
        "id": "V0JLiAgXhPWa"
      },
      "execution_count": 7,
      "outputs": []
    },
    {
      "cell_type": "code",
      "source": [
        "test_entries = [Entry(test_data[i:i+2]) for i in range(0, len(test_data)-1, 2)]"
      ],
      "metadata": {
        "id": "PNXOd4Q8hT1P"
      },
      "execution_count": 43,
      "outputs": []
    },
    {
      "cell_type": "code",
      "source": [
        "test = test_entries[0]"
      ],
      "metadata": {
        "id": "52rW4mP3w4YV"
      },
      "execution_count": 44,
      "outputs": []
    },
    {
      "cell_type": "code",
      "source": [
        "test.fdov"
      ],
      "metadata": {
        "colab": {
          "base_uri": "https://localhost:8080/"
        },
        "id": "fnmxPH3Xw54J",
        "outputId": "c4138ff0-cdd4-48ed-85ce-68b5982954f0"
      },
      "execution_count": 45,
      "outputs": [
        {
          "output_type": "execute_result",
          "data": {
            "text/plain": [
              "['abcdefg', 'bcdef', 'bcdefg', 'bceg']"
            ]
          },
          "metadata": {},
          "execution_count": 45
        }
      ]
    },
    {
      "cell_type": "code",
      "source": [
        "test.sp"
      ],
      "metadata": {
        "colab": {
          "base_uri": "https://localhost:8080/"
        },
        "id": "rIgfBrY4x2Ee",
        "outputId": "ecb450c0-7a4c-4c90-bd02-d77b3e930c2f"
      },
      "execution_count": 46,
      "outputs": [
        {
          "output_type": "execute_result",
          "data": {
            "text/plain": [
              "['be',\n",
              " 'abcdefg',\n",
              " 'bcdefg',\n",
              " 'acdefg',\n",
              " 'bceg',\n",
              " 'cdefg',\n",
              " 'abdefg',\n",
              " 'bcdef',\n",
              " 'abcdf',\n",
              " 'bde']"
            ]
          },
          "metadata": {},
          "execution_count": 46
        }
      ]
    },
    {
      "cell_type": "code",
      "source": [
        "test.count_1478()"
      ],
      "metadata": {
        "colab": {
          "base_uri": "https://localhost:8080/"
        },
        "id": "iXyL4yYiw7fd",
        "outputId": "9ba14d1b-1193-483e-be0d-5a20ef559080"
      },
      "execution_count": 47,
      "outputs": [
        {
          "output_type": "execute_result",
          "data": {
            "text/plain": [
              "2"
            ]
          },
          "metadata": {},
          "execution_count": 47
        }
      ]
    },
    {
      "cell_type": "code",
      "source": [
        "test.mapping"
      ],
      "metadata": {
        "colab": {
          "base_uri": "https://localhost:8080/"
        },
        "id": "-F-eo6PayXm1",
        "outputId": "6e3a3472-9612-4f95-98d4-5a7ebf95dabb"
      },
      "execution_count": 48,
      "outputs": [
        {
          "output_type": "execute_result",
          "data": {
            "text/plain": [
              "{0: '',\n",
              " 1: '',\n",
              " 2: '',\n",
              " 3: '',\n",
              " 4: 'bceg',\n",
              " 5: '',\n",
              " 6: '',\n",
              " 7: '',\n",
              " 8: 'abcdefg',\n",
              " 9: ''}"
            ]
          },
          "metadata": {},
          "execution_count": 48
        }
      ]
    },
    {
      "cell_type": "code",
      "source": [
        "test.map()"
      ],
      "metadata": {
        "id": "TWLfkjLAw9ED"
      },
      "execution_count": 41,
      "outputs": []
    },
    {
      "cell_type": "code",
      "source": [
        "test.mapping"
      ],
      "metadata": {
        "colab": {
          "base_uri": "https://localhost:8080/"
        },
        "id": "Db2JMgNHyAjl",
        "outputId": "6e49958b-e190-405c-f962-781371e17b9d"
      },
      "execution_count": 42,
      "outputs": [
        {
          "output_type": "execute_result",
          "data": {
            "text/plain": [
              "{0: '',\n",
              " 1: 'be',\n",
              " 2: '',\n",
              " 3: '',\n",
              " 4: 'bceg',\n",
              " 5: '',\n",
              " 6: '',\n",
              " 7: 'bde',\n",
              " 8: 'abcdefg',\n",
              " 9: ''}"
            ]
          },
          "metadata": {},
          "execution_count": 42
        }
      ]
    },
    {
      "cell_type": "code",
      "source": [
        "total = 0\n",
        "for entry in test_entries:\n",
        "  total += entry.count_1478()\n",
        "total"
      ],
      "metadata": {
        "colab": {
          "base_uri": "https://localhost:8080/"
        },
        "id": "3b8_eXkPhuEX",
        "outputId": "3ac437c9-af6f-4feb-9b1d-56af6ce7ed74"
      },
      "execution_count": 9,
      "outputs": [
        {
          "output_type": "execute_result",
          "data": {
            "text/plain": [
              "26"
            ]
          },
          "metadata": {},
          "execution_count": 9
        }
      ]
    },
    {
      "cell_type": "code",
      "source": [
        "data = read_file()"
      ],
      "metadata": {
        "id": "BxlCMoRWJ39V"
      },
      "execution_count": 13,
      "outputs": []
    },
    {
      "cell_type": "code",
      "source": [
        "entries = [Entry(data[i:i+2]) for i in range(0, len(data)-1, 2)]"
      ],
      "metadata": {
        "id": "Ksi43_A5SIRn"
      },
      "execution_count": 14,
      "outputs": []
    },
    {
      "cell_type": "code",
      "source": [
        "test = entries[0]"
      ],
      "metadata": {
        "id": "5J_GYMzwwe5d"
      },
      "execution_count": 18,
      "outputs": []
    },
    {
      "cell_type": "code",
      "source": [
        "entries[0].fdov"
      ],
      "metadata": {
        "colab": {
          "base_uri": "https://localhost:8080/"
        },
        "id": "LkUY89oVwn9F",
        "outputId": "ccac90a6-37f4-4619-8791-78212330c58f"
      },
      "execution_count": 19,
      "outputs": [
        {
          "output_type": "execute_result",
          "data": {
            "text/plain": [
              "['bcdefg', 'bdefg', 'abcdefg', 'bdefg']"
            ]
          },
          "metadata": {},
          "execution_count": 19
        }
      ]
    },
    {
      "cell_type": "code",
      "source": [
        ""
      ],
      "metadata": {
        "id": "5H0-usP5wrDV"
      },
      "execution_count": null,
      "outputs": []
    },
    {
      "cell_type": "code",
      "source": [
        "entries[0].count_1478()"
      ],
      "metadata": {
        "colab": {
          "base_uri": "https://localhost:8080/"
        },
        "id": "HusHQCAcwWwi",
        "outputId": "490fe6f7-e977-42e0-a784-80d32bc58a85"
      },
      "execution_count": 17,
      "outputs": [
        {
          "output_type": "execute_result",
          "data": {
            "text/plain": [
              "1"
            ]
          },
          "metadata": {},
          "execution_count": 17
        }
      ]
    },
    {
      "cell_type": "code",
      "source": [
        "entries[]"
      ],
      "metadata": {
        "id": "UehG0F9KwcIb"
      },
      "execution_count": null,
      "outputs": []
    },
    {
      "cell_type": "code",
      "source": [
        "total = 0\n",
        "for entry in entries:\n",
        "  total += entry.count_1478()"
      ],
      "metadata": {
        "id": "7p82bgU7gwut"
      },
      "execution_count": 98,
      "outputs": []
    },
    {
      "cell_type": "code",
      "source": [
        "total"
      ],
      "metadata": {
        "colab": {
          "base_uri": "https://localhost:8080/"
        },
        "id": "7TYmHR0ug12-",
        "outputId": "54f33ef0-667f-48df-c13d-298741916037"
      },
      "execution_count": 91,
      "outputs": [
        {
          "output_type": "execute_result",
          "data": {
            "text/plain": [
              "349"
            ]
          },
          "metadata": {},
          "execution_count": 91
        }
      ]
    },
    {
      "cell_type": "markdown",
      "source": [
        "## Part 2"
      ],
      "metadata": {
        "id": "48flX0iujJRa"
      }
    },
    {
      "cell_type": "code",
      "source": [
        ""
      ],
      "metadata": {
        "id": "eKCg86uUjKU-"
      },
      "execution_count": null,
      "outputs": []
    }
  ]
}