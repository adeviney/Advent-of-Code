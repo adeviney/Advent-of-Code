{
  "nbformat": 4,
  "nbformat_minor": 0,
  "metadata": {
    "colab": {
      "name": "AdventofCode-Day1.ipynb",
      "provenance": [],
      "authorship_tag": "ABX9TyMPxZLgYsPoeghwLDI/4hmD",
      "include_colab_link": true
    },
    "kernelspec": {
      "name": "python3",
      "display_name": "Python 3"
    },
    "language_info": {
      "name": "python"
    }
  },
  "cells": [
    {
      "cell_type": "markdown",
      "metadata": {
        "id": "view-in-github",
        "colab_type": "text"
      },
      "source": [
        "<a href=\"https://colab.research.google.com/github/adeviney/Advent-of-Code/blob/main/AdventofCode_Day1.ipynb\" target=\"_parent\"><img src=\"https://colab.research.google.com/assets/colab-badge.svg\" alt=\"Open In Colab\"/></a>"
      ]
    },
    {
      "cell_type": "markdown",
      "source": [
        "# Advent of Code - Day 1\n",
        "- Sonar Sweep"
      ],
      "metadata": {
        "id": "xo4FZ82mzlNc"
      }
    },
    {
      "cell_type": "markdown",
      "source": [
        "## Part 1"
      ],
      "metadata": {
        "id": "UWJSGr9wz9ck"
      }
    },
    {
      "cell_type": "code",
      "execution_count": 5,
      "metadata": {
        "id": "8UaiTOY5Y1qV"
      },
      "outputs": [],
      "source": [
        "def read_file(filename = 'input.txt'):\n",
        "  f = open(filename)\n",
        "  data = [int(i) for i in f.read().strip().split(\"\\n\")]\n",
        "  return data"
      ]
    },
    {
      "cell_type": "code",
      "source": [
        "def find_num_increases(depths):\n",
        "  pairs = zip(depths, depths[1:])\n",
        "  increases = [firstNum < secondNum for firstNum, secondNum in pairs]\n",
        "  return sum(increases)"
      ],
      "metadata": {
        "id": "qO8rMg8nwzDe"
      },
      "execution_count": 23,
      "outputs": []
    },
    {
      "cell_type": "code",
      "source": [
        "depths = read_file('input.txt')\n",
        "print(find_num_increases(depths))"
      ],
      "metadata": {
        "id": "dcuAyo8hZ2On",
        "colab": {
          "base_uri": "https://localhost:8080/"
        },
        "outputId": "8e1dc0b2-8fb3-4dc2-edf8-54b56133dafa"
      },
      "execution_count": 49,
      "outputs": [
        {
          "output_type": "stream",
          "name": "stdout",
          "text": [
            "1583\n"
          ]
        }
      ]
    },
    {
      "cell_type": "markdown",
      "source": [
        "## Part 2"
      ],
      "metadata": {
        "id": "fl4VyL3Vz_iI"
      }
    },
    {
      "cell_type": "code",
      "source": [
        "def find_window_increases(depths):\n",
        "  triples = zip(depths, depths[1:], depths[2:])\n",
        "  triplesSum = [sum(triple) for triple in triples]\n",
        "  pairsOfTripleSums = zip(triplesSum, triplesSum[1:])\n",
        "  increases = [firstNum < secondNum for firstNum, secondNum in pairsOfTripleSums]\n",
        "  return sum(increases)"
      ],
      "metadata": {
        "id": "3TfwxwjdzkJ0"
      },
      "execution_count": 44,
      "outputs": []
    },
    {
      "cell_type": "code",
      "source": [
        "find_window_increases(depths)"
      ],
      "metadata": {
        "colab": {
          "base_uri": "https://localhost:8080/"
        },
        "id": "LX4KbqAp2KnZ",
        "outputId": "fee7952e-ce24-4d94-a4be-b7f3d63f58f7"
      },
      "execution_count": 50,
      "outputs": [
        {
          "output_type": "execute_result",
          "data": {
            "text/plain": [
              "1627"
            ]
          },
          "metadata": {},
          "execution_count": 50
        }
      ]
    }
  ]
}
