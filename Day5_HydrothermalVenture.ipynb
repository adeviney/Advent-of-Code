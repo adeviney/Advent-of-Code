{
  "nbformat": 4,
  "nbformat_minor": 0,
  "metadata": {
    "colab": {
      "name": "Day5_HydrothermalVenture.ipynb",
      "provenance": [],
      "authorship_tag": "ABX9TyM11Ma/l33LWa6EO1oJQgwA",
      "include_colab_link": true
    },
    "kernelspec": {
      "name": "python3",
      "display_name": "Python 3"
    },
    "language_info": {
      "name": "python"
    }
  },
  "cells": [
    {
      "cell_type": "markdown",
      "metadata": {
        "id": "view-in-github",
        "colab_type": "text"
      },
      "source": [
        "<a href=\"https://colab.research.google.com/github/adeviney/Advent-of-Code/blob/main/Day5_HydrothermalVenture.ipynb\" target=\"_parent\"><img src=\"https://colab.research.google.com/assets/colab-badge.svg\" alt=\"Open In Colab\"/></a>"
      ]
    },
    {
      "cell_type": "code",
      "source": [
        "import numpy as np\n",
        "import json"
      ],
      "metadata": {
        "id": "tApI006Fq4Mj"
      },
      "execution_count": 43,
      "outputs": []
    },
    {
      "cell_type": "code",
      "source": [
        "class Line:\n",
        "  def __init__(self, start, end):\n",
        "    self.start = start\n",
        "    self.end = end\n",
        "  \n",
        "  def isHorizontal(self):\n",
        "    return self.start[1] == self.end[1]\n",
        "  def isVertical(self):\n",
        "    return self.start[0] == self.end[0]"
      ],
      "metadata": {
        "id": "kIQ0UF_157CD"
      },
      "execution_count": 59,
      "outputs": []
    },
    {
      "cell_type": "code",
      "source": [
        "class Grid:\n",
        "  def __init__(self, n = 1000):\n",
        "    self.grid = np.zeros([n, n])\n",
        "  \n",
        "  def markGrid(self, line):\n",
        "    x1 = line.start[0]\n",
        "    x2 = line.end[0]\n",
        "    y1 = line.start[1]\n",
        "    y2 = line.end[1]\n",
        "\n",
        "    m = -1*(y2-y1)/(x2-x1) if not line.isVertical() else 0 \n",
        "\n",
        "    while (x1 != x2 or y1 != y2):\n",
        "      self.grid[x1, y1] += 1\n",
        "      if (x1 == x2):\n",
        "        pass\n",
        "      elif (x1 < x2):\n",
        "        x1 += 1\n",
        "      else:\n",
        "        x1 += -1\n",
        "      \n",
        "      if (y1 == y2):\n",
        "        pass\n",
        "      elif (y1 < y2):\n",
        "        y1 += 1\n",
        "      else:\n",
        "        y1 += -1\n",
        "    self.grid[x2,y2] += 1\n",
        "  \n",
        "  def num_Overlap(self):\n",
        "    return np.sum(self.grid > 1)"
      ],
      "metadata": {
        "id": "vl3kgqVTB9Fy"
      },
      "execution_count": 191,
      "outputs": []
    },
    {
      "cell_type": "code",
      "source": [
        "def read_file(filename = 'day5input.txt'):\n",
        "  with open(filename) as f:\n",
        "\n",
        "    coords = [y.strip()\n",
        "    for lines in f.read().split('\\n')\n",
        "      for y in lines.split('->')]\n",
        "\n",
        "  return coords"
      ],
      "metadata": {
        "id": "Rdf5zM-Y56z2"
      },
      "execution_count": 35,
      "outputs": []
    },
    {
      "cell_type": "code",
      "execution_count": 62,
      "metadata": {
        "id": "jbXBrNopffnr"
      },
      "outputs": [],
      "source": [
        "coordinates = read_file()\n",
        "coordinates = [\"[\" + x + \"]\" for x in coordinates]\n",
        "coordinates = [json.loads(coord) for coord in coordinates]\n",
        "\n",
        "lines = [Line(coordinates[i], coordinates[i+1]) for \n",
        "         i in range(0, len(coordinates)-1, 2)]"
      ]
    },
    {
      "cell_type": "code",
      "source": [
        "hlines = [l for l in lines if l.isHorizontal()]\n",
        "vlines = [l for l in lines if l.isVertical()]"
      ],
      "metadata": {
        "id": "biPxkSSUp_h-"
      },
      "execution_count": 68,
      "outputs": []
    },
    {
      "cell_type": "code",
      "source": [
        "grid_part1 = Grid()\n",
        "for h in hlines:\n",
        "  grid_part1.markGrid(h)\n",
        "for v in vlines:\n",
        "  grid_part1.markGrid(v)"
      ],
      "metadata": {
        "id": "QhuGnUPeMUsA"
      },
      "execution_count": 192,
      "outputs": []
    },
    {
      "cell_type": "code",
      "source": [
        "grid_part1.num_Overlap()"
      ],
      "metadata": {
        "colab": {
          "base_uri": "https://localhost:8080/"
        },
        "id": "tMr5npf_SbJt",
        "outputId": "dd6acf4b-1386-423d-c363-a08e1acbf077"
      },
      "execution_count": 193,
      "outputs": [
        {
          "output_type": "execute_result",
          "data": {
            "text/plain": [
              "4655"
            ]
          },
          "metadata": {},
          "execution_count": 193
        }
      ]
    },
    {
      "cell_type": "code",
      "source": [
        "grid_part2 = Grid()\n",
        "for i, l in enumerate(lines):\n",
        "  grid_part2.markGrid(l)"
      ],
      "metadata": {
        "id": "YXGI_KrpTKDm"
      },
      "execution_count": 194,
      "outputs": []
    },
    {
      "cell_type": "code",
      "source": [
        "grid_part2.num_Overlap()"
      ],
      "metadata": {
        "colab": {
          "base_uri": "https://localhost:8080/"
        },
        "id": "b1mPdmh-U3TU",
        "outputId": "23117365-7dd5-412d-a767-8d2189848a4b"
      },
      "execution_count": 195,
      "outputs": [
        {
          "output_type": "execute_result",
          "data": {
            "text/plain": [
              "20500"
            ]
          },
          "metadata": {},
          "execution_count": 195
        }
      ]
    }
  ]
}