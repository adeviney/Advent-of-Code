{
 "cells": [
  {
   "cell_type": "markdown",
   "id": "809a8844",
   "metadata": {},
   "source": [
    "# Day 16: Packet Decoder\n"
   ]
  },
  {
   "cell_type": "code",
   "execution_count": 2,
   "id": "c5e9ccf8",
   "metadata": {},
   "outputs": [],
   "source": [
    "import math"
   ]
  },
  {
   "cell_type": "code",
   "execution_count": 88,
   "id": "311e19ed",
   "metadata": {},
   "outputs": [],
   "source": [
    "def parse_data(source):\n",
    "    try:\n",
    "        with open(source) as f:\n",
    "            source = f.read().strip()\n",
    "    except:\n",
    "        print(\"file not found, please try again\")\n",
    "        return -1\n",
    "    return source"
   ]
  },
  {
   "cell_type": "code",
   "execution_count": 20,
   "id": "2265f170",
   "metadata": {},
   "outputs": [],
   "source": [
    "def evaluate_literal(bin_str):\n",
    "    litvalue = ''\n",
    "    for x in range(0, len(bin_str), 5):\n",
    "        prefix = int(bin_str[x])\n",
    "        litvalue += bin_str[x+1:x+5]\n",
    "        if prefix == 0:\n",
    "            break\n",
    "    return [int(litvalue, 2), x+5]"
   ]
  },
  {
   "cell_type": "code",
   "execution_count": 21,
   "id": "df7f55ea",
   "metadata": {},
   "outputs": [],
   "source": [
    "def get_binary(hex_str):\n",
    "    dec = int(\"1\" + hex_str, 16)  # convert to decimal \n",
    "    #prepend 1 to the beginning of the hex string to ensure leading zeros are retained\n",
    "    binary = bin(dec) # use bin to convert to binary\n",
    "    return binary[3:]"
   ]
  },
  {
   "cell_type": "code",
   "execution_count": 99,
   "id": "aab241c2",
   "metadata": {},
   "outputs": [],
   "source": [
    "def noSigBitsRemaining(stream, i):\n",
    "    if stream[i:] == '':\n",
    "        return True\n",
    "    return int(stream[i:],2) == 0"
   ]
  },
  {
   "cell_type": "code",
   "execution_count": 156,
   "id": "73c98009",
   "metadata": {},
   "outputs": [],
   "source": [
    "def evaluate_operator(typeID, literals):\n",
    "    if typeID == 0:\n",
    "        return sum(literals), \"Sum\"\n",
    "    elif typeID == 1:\n",
    "        product = 1\n",
    "        for x in literals:\n",
    "            product = product * x\n",
    "        return product, \"Product\"\n",
    "    elif typeID == 2:\n",
    "        return min(literals), \"Minimum\"\n",
    "    elif typeID == 3:\n",
    "        return max(literals), \"Maximum\"\n",
    "    elif typeID == 5:\n",
    "        return int(literals[0] > literals[1]), \"Greater Than\"\n",
    "    elif typeID == 6:\n",
    "        return int(literals[0] < literals[1]), \"Less Than\"\n",
    "    elif typeID == 7:\n",
    "        return int(literals[0] == literals[1]), \"Equal To\"\n",
    "    else:\n",
    "        \"Error!!!\"\n",
    "        return 99999"
   ]
  },
  {
   "cell_type": "code",
   "execution_count": 159,
   "id": "9a6a375a",
   "metadata": {},
   "outputs": [],
   "source": [
    "def decode_hex(hex_str, verbose = False, veryverbose = False):\n",
    "    version_sum = 0\n",
    "    stream = get_binary(hex_str)\n",
    "    packets = []\n",
    "    i = 0\n",
    "    pId = 1\n",
    "    \n",
    "    unparsedParents = []\n",
    "    \n",
    "    while (i < len(stream)):\n",
    "        if veryverbose:\n",
    "            print(\"\\n\\n====START OF NEW ITERATION====\")\n",
    "            print(stream[i:])\n",
    "            print(\"ID number of new packet:\", pId)\n",
    "            \n",
    "        subpacketComplete = False\n",
    "        addedParentThisIteration = False\n",
    "        i_start = i\n",
    "        \n",
    "        parentID = unparsedParents[-1][\"ID\"] if unparsedParents else \"N/A - Outer Packet\"\n",
    "        \n",
    "        #the first three bits encode the packet version\n",
    "        version = stream[i:i+3]\n",
    "        version = int(version, 2)\n",
    "        if veryverbose:\n",
    "            print(\"Packet Version:\", version)\n",
    "        version_sum += version\n",
    "\n",
    "        #the next three bits encode the packet type ID\n",
    "        typeid = stream[i+3:i+6]\n",
    "        typeid = int(typeid, 2)\n",
    "        if veryverbose:\n",
    "            print(\"Packet Type ID:\", typeid)\n",
    "        \n",
    "        packets.append({\"ID\":pId, \"Version\": version, \"TypeID\": typeid, \"ParentID\": parentID})\n",
    "        i+=6\n",
    "        \n",
    "        if typeid == 4:\n",
    "            litvalue, literal_end_index = evaluate_literal(stream[i:])\n",
    "            i += literal_end_index\n",
    "            if veryverbose:\n",
    "                print(f\"packet #{pId} encodes a literal value\", litvalue)\n",
    "            packets[-1][\"LiteralValue\"] = litvalue\n",
    "            if unparsedParents:\n",
    "                unparsedParents[-1][\"Literals\"].append(litvalue)\n",
    "            subpacketComplete = True\n",
    "            \n",
    "\n",
    "        # Every other type of packet (any packet with a type ID other than 4) represent an operator packet\n",
    "        else: \n",
    "            lengthTypeID = stream[i]\n",
    "            i+=1\n",
    "            # If the length type ID is 0, \n",
    "            # then the next 15 bits are a number that represents the total length in bits \n",
    "            # of the sub-packets contained by this packet.\n",
    "\n",
    "            if int(lengthTypeID) == 0:\n",
    "                lengthSubpackets = int(stream[i:i+15],2) # bits\n",
    "                i+=15\n",
    "                packets[-1][\"Bits in Subpackets\"]=lengthSubpackets\n",
    "                unparsedParents.append({\"ID\": pId, \"typeID\": typeid, \"type\": 0, \"Literals\": [],\n",
    "                                        \"length\": lengthSubpackets, \"lengthParsed\": 0, \"done\": False})\n",
    "                if veryverbose:\n",
    "                    print(f\"packet #{pId} is an operator packet with {lengthSubpackets} bits in its subpackets\")\n",
    "\n",
    "            # If the length type ID is 1, \n",
    "            # then the next 11 bits are a number that \n",
    "            # represents the number of sub-packets immediately contained by this packet.\n",
    "            else:\n",
    "                numSubpackets = int(stream[i:i+11], 2) #subpackets\n",
    "                i+=11\n",
    "                packets[-1][\"numSubpackets\"]=numSubpackets\n",
    "                unparsedParents.append({\"ID\": pId, \"typeID\": typeid, \"type\": 1, \"Literals\": [],\n",
    "                                        \"numSubpackets\": numSubpackets, \"packetsParsed\": 0, \"done\": False})\n",
    "                if veryverbose:\n",
    "                    print(f\"packet #{pId} is an operator packet with {numSubpackets} subpackets.\")\n",
    "                \n",
    "            addedParentThisIteration = True\n",
    "                \n",
    "                \n",
    "        bitsParsedThisIteration = i-i_start\n",
    "        if veryverbose:\n",
    "            print(\"Bits Parsed this Iteration:\", bitsParsedThisIteration, stream[i_start:i])\n",
    "        \n",
    "        \n",
    "        for parent in reversed(unparsedParents):\n",
    "            if parent[\"type\"] == 0:\n",
    "                parent[\"lengthParsed\"] += 0 if addedParentThisIteration else bitsParsedThisIteration\n",
    "                if parent[\"lengthParsed\"] >= parent[\"length\"]:\n",
    "                    parent[\"done\"] = True\n",
    "            addedParentThisIteration = False #reset, this is only relevant to innermost packet (the one added to stack last)\n",
    "        \n",
    "        while (unparsedParents):\n",
    "            if subpacketComplete:\n",
    "                if unparsedParents[-1][\"type\"] == 1:\n",
    "                    unparsedParents[-1][\"packetsParsed\"] += 1\n",
    "                    if unparsedParents[-1][\"packetsParsed\"] == unparsedParents[-1][\"numSubpackets\"]:\n",
    "                        unparsedParents[-1][\"done\"] = True\n",
    "                    else:\n",
    "                        subpacketComplete = False\n",
    "    \n",
    "            if unparsedParents[-1][\"done\"]:\n",
    "                finishedParent = unparsedParents.pop()\n",
    "                packet = [x for x in packets if x[\"ID\"] == finishedParent[\"ID\"]][0]\n",
    "                value, operator = evaluate_operator(finishedParent[\"typeID\"], finishedParent[\"Literals\"])\n",
    "                packet[\"Value\"] = value\n",
    "                packet[\"Operator\"] = operator\n",
    "                packet[\"Literals\"] = finishedParent[\"Literals\"]\n",
    "                \n",
    "                if unparsedParents:\n",
    "                    unparsedParents[-1][\"Literals\"].append(value)\n",
    "                if veryverbose:\n",
    "                    print(f\"Packet ID #{finishedParent['ID']} is complete! This encodes a value of {value}\")\n",
    "            else:\n",
    "                break\n",
    "                \n",
    "        if veryverbose:\n",
    "            print('\\nUNPARSED PARENTS')\n",
    "            print(unparsedParents)\n",
    "            print('\\n')\n",
    "\n",
    "            print('PACKETS')\n",
    "            print(packets)\n",
    "        \n",
    "        pId+=1 #next packet ID\n",
    "        \n",
    "        if noSigBitsRemaining(stream, i):\n",
    "            subpacketComplete = True\n",
    "            i = len(stream)\n",
    "            part2value = value\n",
    "            if veryverbose:\n",
    "                print(\"The remaining bits are 0s\")\n",
    "                print(f\"The decoding has completed. The final value is {value}\")\n",
    "        \n",
    "    if verbose:\n",
    "        print(packets)\n",
    "        \n",
    "    return version_sum, part2value"
   ]
  },
  {
   "cell_type": "code",
   "execution_count": 90,
   "id": "230120b1",
   "metadata": {},
   "outputs": [],
   "source": [
    "puzzle_input = parse_data(\"InputFiles/day16input.txt\")"
   ]
  },
  {
   "cell_type": "code",
   "execution_count": 161,
   "id": "964f570f",
   "metadata": {
    "scrolled": true
   },
   "outputs": [
    {
     "data": {
      "text/plain": [
       "(974, 180616437720)"
      ]
     },
     "execution_count": 161,
     "metadata": {},
     "output_type": "execute_result"
    }
   ],
   "source": [
    "decode_hex(puzzle_input)"
   ]
  },
  {
   "cell_type": "code",
   "execution_count": 160,
   "id": "54a4fe7e",
   "metadata": {},
   "outputs": [
    {
     "name": "stdout",
     "output_type": "stream",
     "text": [
      "[{'ID': 1, 'Version': 4, 'TypeID': 7, 'ParentID': 'N/A - Outer Packet', 'Bits in Subpackets': 80, 'Value': 1, 'Operator': 'Equal To', 'Literals': [4, 4]}, {'ID': 2, 'Version': 2, 'TypeID': 0, 'ParentID': 1, 'numSubpackets': 2, 'Value': 4, 'Operator': 'Sum', 'Literals': [1, 3]}, {'ID': 3, 'Version': 2, 'TypeID': 4, 'ParentID': 2, 'LiteralValue': 1}, {'ID': 4, 'Version': 4, 'TypeID': 4, 'ParentID': 2, 'LiteralValue': 3}, {'ID': 5, 'Version': 6, 'TypeID': 1, 'ParentID': 1, 'numSubpackets': 2, 'Value': 4, 'Operator': 'Product', 'Literals': [2, 2]}, {'ID': 6, 'Version': 0, 'TypeID': 4, 'ParentID': 5, 'LiteralValue': 2}, {'ID': 7, 'Version': 2, 'TypeID': 4, 'ParentID': 5, 'LiteralValue': 2}]\n"
     ]
    },
    {
     "data": {
      "text/plain": [
       "(20, 1)"
      ]
     },
     "execution_count": 160,
     "metadata": {},
     "output_type": "execute_result"
    }
   ],
   "source": [
    "decode_hex(\"9C0141080250320F1802104A08\", verbose = True)"
   ]
  }
 ],
 "metadata": {
  "kernelspec": {
   "display_name": "Python (dojo-env)",
   "language": "python",
   "name": "dojo-env"
  },
  "language_info": {
   "codemirror_mode": {
    "name": "ipython",
    "version": 3
   },
   "file_extension": ".py",
   "mimetype": "text/x-python",
   "name": "python",
   "nbconvert_exporter": "python",
   "pygments_lexer": "ipython3",
   "version": "3.7.12"
  },
  "toc": {
   "base_numbering": 1,
   "nav_menu": {},
   "number_sections": true,
   "sideBar": true,
   "skip_h1_title": false,
   "title_cell": "Table of Contents",
   "title_sidebar": "Contents",
   "toc_cell": false,
   "toc_position": {},
   "toc_section_display": true,
   "toc_window_display": false
  }
 },
 "nbformat": 4,
 "nbformat_minor": 5
}
