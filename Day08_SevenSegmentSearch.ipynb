{
  "nbformat": 4,
  "nbformat_minor": 0,
  "metadata": {
    "colab": {
      "name": "Day8_SevenSegmentSearch.ipynb",
      "provenance": [],
      "collapsed_sections": [],
      "include_colab_link": true
    },
    "kernelspec": {
      "name": "python3",
      "display_name": "Python 3"
    },
    "language_info": {
      "name": "python"
    }
  },
  "cells": [
    {
      "cell_type": "markdown",
      "metadata": {
        "id": "view-in-github",
        "colab_type": "text"
      },
      "source": [
        "<a href=\"https://colab.research.google.com/github/adeviney/Advent-of-Code/blob/main/Day8_SevenSegmentSearch.ipynb\" target=\"_parent\"><img src=\"https://colab.research.google.com/assets/colab-badge.svg\" alt=\"Open In Colab\"/></a>"
      ]
    },
    {
      "cell_type": "markdown",
      "source": [
        "# Day 8: Seven Segment Search\n"
      ],
      "metadata": {
        "id": "xEKi8VfRJUaE"
      }
    },
    {
      "cell_type": "markdown",
      "source": [
        "This is my first attempt at what I thought was the hardest AoC puzzle so far. \n",
        "\n",
        "There is probably a more simple way to do this. Will plan to update "
      ],
      "metadata": {
        "id": "gSYpKsCBmDug"
      }
    },
    {
      "cell_type": "markdown",
      "source": [
        "## Part 1"
      ],
      "metadata": {
        "id": "7i3hjll3ilFY"
      }
    },
    {
      "cell_type": "code",
      "execution_count": 1,
      "metadata": {
        "id": "xXsn5AicGuF9"
      },
      "outputs": [],
      "source": [
        "def read_file(filename = 'day8input.txt'):\n",
        "  with open(filename) as f:\n",
        "    data = [x.strip()\n",
        "    for line in f.read().split('\\n')\n",
        "      for x in line.split('|')]\n",
        "  return data"
      ]
    },
    {
      "cell_type": "code",
      "source": [
        "def count_unique_char(str):\n",
        "  return len(set(str))"
      ],
      "metadata": {
        "id": "QpoyyAswVHph"
      },
      "execution_count": 2,
      "outputs": []
    },
    {
      "cell_type": "code",
      "source": [
        "class Entry:\n",
        "    def __init__(self, signal_data):\n",
        "        # ten unique signal patterns (sp)\n",
        "        self.sp = [''.join(sorted(digit)) for digit in signal_data[0].split(' ')]\n",
        "\n",
        "        #four digit output value (fdov)\n",
        "        self.fdov = [''.join(sorted(digit)) for digit in signal_data[1].split(' ')]\n",
        "\n",
        "        # the correctly wired display is shown below\n",
        "        #  aaaa    \n",
        "        # b    c  \n",
        "        # b    c  \n",
        "        #  dddd    \n",
        "        # e    f  \n",
        "        # e    f \n",
        "        #  gggg \n",
        "        # the following dictionary will map the correct segment wiring to the currently wired segment\n",
        "        self.segment_map = {'a': '',\n",
        "                            'b': '',\n",
        "                            'c': '', \n",
        "                            'd': '', \n",
        "                            'e': '',\n",
        "                            'f': '',\n",
        "                            'g': ''}\n",
        "\n",
        "        #7-digit display by number of unique segements\n",
        "        self.display_by_num_uniq_seg = {2: [x for x in self.sp if count_unique_char(x) == 2],\n",
        "                                3: [x for x in self.sp if count_unique_char(x) == 3],\n",
        "                                4: [x for x in self.sp if count_unique_char(x) == 4],\n",
        "                                5: [x for x in self.sp if count_unique_char(x) == 5],\n",
        "                                6: [x for x in self.sp if count_unique_char(x) == 6],\n",
        "                                7: [x for x in self.sp if count_unique_char(x) == 7]}\n",
        "\n",
        "\n",
        "\n",
        "        #actual digit by number of unique segments\n",
        "        self.possible_numbers = {2: [1],\n",
        "                                3: [7],\n",
        "                                4: [4],\n",
        "                                5: [2, 3, 5],\n",
        "                                6: [0, 6, 9],\n",
        "                                7: [8]}\n",
        "\n",
        "        # 7-segment display: digit\n",
        "        self.final_map = {}\n",
        "\n",
        "\n",
        "        self.initalize_final_mapping()\n",
        "        self.get_segment_map()\n",
        "        self.finish_mapping()\n",
        "\n",
        "    def initalize_final_mapping(self):\n",
        "        for display in self.sp:\n",
        "            num_uniq = count_unique_char(display)\n",
        "            poss_num = self.possible_numbers[num_uniq]\n",
        "            if (len(poss_num) == 1):\n",
        "                self.final_map[display] = poss_num[0]\n",
        "            else:\n",
        "                self.final_map[display] = -1\n",
        "\n",
        "    \n",
        "    def count_1478(self):\n",
        "        sum = 0\n",
        "        for digit in self.fdov:\n",
        "            num_uniq = count_unique_char(digit)\n",
        "            poss_num = self.possible_numbers[num_uniq]\n",
        "            if (len(poss_num) == 1):\n",
        "                sum += 1\n",
        "        return sum\n",
        "\n",
        "    def get_segment_map(self):\n",
        "        #  aaaa    \n",
        "        # b    c  \n",
        "        # b    c  \n",
        "        #  dddd    \n",
        "        # e    f  \n",
        "        # e    f \n",
        "        #  gggg \n",
        "        \n",
        "        ### first get mapping of first segment 'a'\n",
        "        # by comparing displays of 7 and 1\n",
        "        # 7 will have the same integers as 1 plus one more which is 'a'\n",
        "        known_segments = []\n",
        "\n",
        "        self.segment_map['a'] = list(set(self.display_by_num_uniq_seg[3][0]) - set(self.display_by_num_uniq_seg[2][0]))[0]\n",
        "\n",
        "\n",
        "        #digit 4 will contain two segments that are not present in digit 1\n",
        "        # these 2 segments will be 'b' and 'd' (but we are not sure which one is which yet)\n",
        "        b_d = set(self.display_by_num_uniq_seg[4][0]) - set(self.display_by_num_uniq_seg[2][0])\n",
        "        \n",
        "        ### digits 2,3,and 5 all have 5 unique segments\n",
        "        #a,d,g are shared segments among the three digits\n",
        "        # we can find all a,d,and g. since we already know what a is, remove that one \n",
        "        d_g = set(self.display_by_num_uniq_seg[5][0]).intersection(set(self.display_by_num_uniq_seg[5][1]), set(self.display_by_num_uniq_seg[5][2])) - set(self.segment_map['a'])\n",
        "\n",
        "        #now we have (b,d) and (d,g). the similar segment between these two will be d\n",
        "        self.segment_map['d'] = list(b_d.intersection(d_g))[0]\n",
        "\n",
        "        ## we can also find b and g now!! \n",
        "        # b = (b,d) - d\n",
        "        # g = (d,g) - d\n",
        "\n",
        "        self.segment_map['b'] = list(b_d - set(self.segment_map['d']))[0]\n",
        "        self.segment_map['g'] = list(d_g - set(self.segment_map['d']))[0]\n",
        "\n",
        "        #  AAAA    \n",
        "        # B    c  \n",
        "        # B    c  \n",
        "        #  DDDD    \n",
        "        # e    f  \n",
        "        # e    f \n",
        "        #  GGGG \n",
        "        #we now have a,b,d,g (shown by capital letters in the figure above)\n",
        "        #5 will have the segments a,b,d,*f*,and,g\n",
        "        #so we need to find a digit with 5 unique segments, containing \n",
        "        # all the segments we have found so far + 1 (this will be f)\n",
        "        known_segments = [self.segment_map['a'], self.segment_map['b'],\\\n",
        "                         self.segment_map['d'], self.segment_map['g']]\n",
        "        \n",
        "        for five_segment_num in self.display_by_num_uniq_seg[5]:\n",
        "            diff = set(five_segment_num) - set(known_segments)\n",
        "            if (len(diff) == 1):\n",
        "                self.final_map[five_segment_num] = 5\n",
        "                self.segment_map['f'] = list(diff)[0]\n",
        "                break\n",
        "    \n",
        "        known_segments += self.segment_map['f']\n",
        "\n",
        "        #  AAAA    \n",
        "        # B    c  \n",
        "        # B    c  \n",
        "        #  DDDD    \n",
        "        # e    F  \n",
        "        # e    F \n",
        "        #  GGGG \n",
        "\n",
        "        # we can solve for c because it is the actual value of the f segment\n",
        "        # minus the other segment in the digit 1\n",
        "        self.segment_map['c'] = list(set(self.display_by_num_uniq_seg[2][0]) - set(self.segment_map['f']))[0]\n",
        "        known_segments += self.segment_map['c']\n",
        "\n",
        "        # e segment is the only remaining segment that has not yet been mapped\n",
        "        self.segment_map['e'] = list(set(self.display_by_num_uniq_seg[7][0]) - set(known_segments))[0]\n",
        "\n",
        "    def finish_mapping(self):\n",
        "        #remaining digits to map: 0, 2, 3, 6, 9\n",
        "        DIGITS_TO_MAP = [0, 2, 3, 6, 9]\n",
        "        normal_wiring = {0: 'abcefg',\n",
        "                         2: 'acdeg',\n",
        "                         3: 'acdfg',\n",
        "                         6: 'abdefg',\n",
        "                         9: 'abcdfg'}\n",
        "\n",
        "        for digit in DIGITS_TO_MAP:\n",
        "            display = normal_wiring[digit].translate(normal_wiring[digit].maketrans(self.segment_map))\n",
        "            sorted_display = ''.join(sorted(display))\n",
        "            self.final_map[sorted_display] = digit\n",
        "\n",
        "    def output_value(self):\n",
        "        to_return = 0\n",
        "        for i, disp in enumerate(self.fdov):\n",
        "            to_return += self.final_map[disp] * 10**(3-i)\n",
        "\n",
        "        return to_return"
      ],
      "metadata": {
        "id": "-oGItl8DROgW"
      },
      "execution_count": 3,
      "outputs": []
    },
    {
      "cell_type": "code",
      "source": [
        "raw_test_data = \\\n",
        "\"\"\"be cfbegad cbdgef fgaecd cgeb fdcge agebfd fecdb fabcd edb |\n",
        "fdgacbe cefdb cefbgd gcbe\n",
        "edbfga begcd cbg gc gcadebf fbgde acbgfd abcde gfcbed gfec |\n",
        "fcgedb cgb dgebacf gc\n",
        "fgaebd cg bdaec gdafb agbcfd gdcbef bgcad gfac gcb cdgabef |\n",
        "cg cg fdcagb cbg\n",
        "fbegcd cbd adcefb dageb afcb bc aefdc ecdab fgdeca fcdbega |\n",
        "efabcd cedba gadfec cb\n",
        "aecbfdg fbg gf bafeg dbefa fcge gcbea fcaegb dgceab fcbdga |\n",
        "gecf egdcabf bgf bfgea\n",
        "fgeab ca afcebg bdacfeg cfaedg gcfdb baec bfadeg bafgc acf |\n",
        "gebdcfa ecba ca fadegcb\n",
        "dbcfg fgd bdegcaf fgec aegbdf ecdfab fbedc dacgb gdcebf gf |\n",
        "cefg dcbef fcge gbcadfe\n",
        "bdfegc cbegaf gecbf dfcage bdacg ed bedf ced adcbefg gebcd |\n",
        "ed bcgafe cdgba cbgef\n",
        "egadfb cdbfeg cegd fecab cgb gbdefca cg fgcdab egfdb bfceg |\n",
        "gbdfcae bgc cg cgb\n",
        "gcafb gcf dcaebfg ecagb gf abcdeg gaef cafbge fdbac fegbdc |\n",
        "fgae cfgab fg bagce\"\"\""
      ],
      "metadata": {
        "id": "Dz1Bdnwog-2x"
      },
      "execution_count": 4,
      "outputs": []
    },
    {
      "cell_type": "code",
      "source": [
        "# raw_test_data = \\\n",
        "# \"\"\"\n",
        "# acedgfb cdfbe gcdfa fbcad dab cefabd cdfgeb eafb cagedb ab |\n",
        "# cdfeb fcadb cdfeb cdbaf\n",
        "# \"\"\""
      ],
      "metadata": {
        "id": "-4_lmWmz-dny"
      },
      "execution_count": 5,
      "outputs": []
    },
    {
      "cell_type": "code",
      "source": [
        "test_data = [x.strip()\n",
        "    for line in raw_test_data.split('\\n')\n",
        "      for x in line.split('|') if x != '']"
      ],
      "metadata": {
        "id": "V0JLiAgXhPWa"
      },
      "execution_count": 6,
      "outputs": []
    },
    {
      "cell_type": "code",
      "source": [
        "test_entries = [Entry(test_data[i:i+2]) for i in range(0, len(test_data)-1, 2)]\n",
        "sum = 0\n",
        "for entry in test_entries:\n",
        "    four_digit_ouput = entry.output_value()\n",
        "    print(four_digit_ouput)\n",
        "    sum += four_digit_ouput\n",
        "print(\"Sum\", sum)"
      ],
      "metadata": {
        "id": "PNXOd4Q8hT1P",
        "colab": {
          "base_uri": "https://localhost:8080/"
        },
        "outputId": "e46f83e4-810a-49da-eb9a-9f375eff84a0"
      },
      "execution_count": 7,
      "outputs": [
        {
          "output_type": "stream",
          "name": "stdout",
          "text": [
            "8394\n",
            "9781\n",
            "1197\n",
            "9361\n",
            "4873\n",
            "8418\n",
            "4548\n",
            "1625\n",
            "8717\n",
            "4315\n",
            "Sum 61229\n"
          ]
        }
      ]
    },
    {
      "cell_type": "code",
      "source": [
        "data = read_file()"
      ],
      "metadata": {
        "id": "BxlCMoRWJ39V"
      },
      "execution_count": 8,
      "outputs": []
    },
    {
      "cell_type": "code",
      "source": [
        "entries = [Entry(data[i:i+2]) for i in range(0, len(data)-1, 2)]"
      ],
      "metadata": {
        "id": "Ksi43_A5SIRn"
      },
      "execution_count": 9,
      "outputs": []
    },
    {
      "cell_type": "code",
      "source": [
        "total = 0\n",
        "for entry in entries:\n",
        "  total += entry.count_1478()"
      ],
      "metadata": {
        "id": "7p82bgU7gwut"
      },
      "execution_count": 10,
      "outputs": []
    },
    {
      "cell_type": "code",
      "source": [
        "total"
      ],
      "metadata": {
        "colab": {
          "base_uri": "https://localhost:8080/"
        },
        "id": "7TYmHR0ug12-",
        "outputId": "aa92f07b-a4d5-4b90-fba8-96c7b230e5ec"
      },
      "execution_count": 11,
      "outputs": [
        {
          "output_type": "execute_result",
          "data": {
            "text/plain": [
              "349"
            ]
          },
          "metadata": {},
          "execution_count": 11
        }
      ]
    },
    {
      "cell_type": "markdown",
      "source": [
        "## Part 2"
      ],
      "metadata": {
        "id": "48flX0iujJRa"
      }
    },
    {
      "cell_type": "code",
      "source": [
        "sum = 0\n",
        "for entry in entries:\n",
        "    sum += entry.output_value()\n",
        "print(\"Sum\", sum)"
      ],
      "metadata": {
        "id": "eKCg86uUjKU-",
        "colab": {
          "base_uri": "https://localhost:8080/"
        },
        "outputId": "fa4a7e5e-f0e8-415f-841e-4e852937e6e9"
      },
      "execution_count": 12,
      "outputs": [
        {
          "output_type": "stream",
          "name": "stdout",
          "text": [
            "Sum 1070957\n"
          ]
        }
      ]
    }
  ]
}