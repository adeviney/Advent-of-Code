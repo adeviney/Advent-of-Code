{
  "nbformat": 4,
  "nbformat_minor": 0,
  "metadata": {
    "colab": {
      "name": "Day11_DumboOctopus.ipynb",
      "provenance": [],
      "include_colab_link": true
    },
    "kernelspec": {
      "name": "python3",
      "display_name": "Python 3"
    },
    "language_info": {
      "name": "python"
    }
  },
  "cells": [
    {
      "cell_type": "markdown",
      "metadata": {
        "id": "view-in-github",
        "colab_type": "text"
      },
      "source": [
        "<a href=\"https://colab.research.google.com/github/adeviney/Advent-of-Code/blob/main/Day11_DumboOctopus.ipynb\" target=\"_parent\"><img src=\"https://colab.research.google.com/assets/colab-badge.svg\" alt=\"Open In Colab\"/></a>"
      ]
    },
    {
      "cell_type": "markdown",
      "source": [
        "# Day 11: Dumbo Octopus"
      ],
      "metadata": {
        "id": "BO6-jbSDGF0p"
      }
    },
    {
      "cell_type": "code",
      "source": [
        "import numpy as np"
      ],
      "metadata": {
        "id": "300B6oGOeNF1"
      },
      "execution_count": 1,
      "outputs": []
    },
    {
      "cell_type": "code",
      "source": [
        "from scipy.signal import convolve2d\n",
        "# tried to use this to find neighboring octopi, failed -- too confusing\n",
        "# plan to try to implement this later"
      ],
      "metadata": {
        "id": "yN_R3WBzvtTB"
      },
      "execution_count": 2,
      "outputs": []
    },
    {
      "cell_type": "code",
      "source": [
        "test_input = \"\"\"5483143223\n",
        "2745854711\n",
        "5264556173\n",
        "6141336146\n",
        "6357385478\n",
        "4167524645\n",
        "2176841721\n",
        "6882881134\n",
        "4846848554\n",
        "5283751526\"\"\""
      ],
      "metadata": {
        "id": "nizcISTsGJFX"
      },
      "execution_count": 3,
      "outputs": []
    },
    {
      "cell_type": "markdown",
      "source": [
        "You can model the energy levels and flashes of light in steps. During a single step, the following occurs:\n",
        "\n",
        "* First, the energy level of each octopus increases by 1.\n",
        "* Then, any octopus with an energy level greater than 9 flashes. \n",
        "* This increases the energy level of all adjacent octopuses by 1, including octopuses that are diagonally adjacent. If this causes an octopus to have an energy level greater than 9, it also flashes. This process continues as long as new octopuses keep having their energy level increased beyond 9. (An octopus can only flash at most once per step.)\n",
        "* Finally, any octopus that flashed during this step has its energy level set to 0, as it used all of its energy to flash."
      ],
      "metadata": {
        "id": "_oXQ0lkPRFrB"
      }
    },
    {
      "cell_type": "code",
      "source": [
        "def step(grid):\n",
        "    # first the energy level of each octopus increases by 1\n",
        "    grid = grid + 1\n",
        "\n",
        "    #any octopus with an energy level greater than 9 flashes\n",
        "    flashed = np.zeros(grid.shape, dtype = 'bool') \n",
        "    flash_oct_loc = np.argwhere(np.array(grid) > 9).tolist()\n",
        "    loc_for_flashed = np.where(grid > 9)\n",
        "    flashed[loc_for_flashed] = 1\n",
        "\n",
        "    \n",
        "    # this loop increases the energy level of all adjacent octopi\n",
        "    while (len(flash_oct_loc) != 0):\n",
        "        coord = flash_oct_loc.pop()\n",
        "        x = coord[0]\n",
        "        y = coord[1]\n",
        "        min_x = x-1 if (x-1)>=0 else 0\n",
        "        max_x = x+2 if (x+2)< grid.shape[0] else grid.shape[0]\n",
        "\n",
        "        min_y = y-1 if (y-1)>= 0 else 0\n",
        "        max_y = y+2 if (y+2)< grid.shape[1] else grid.shape[1]\n",
        "\n",
        "        for grid_x in range(min_x, max_x):\n",
        "            for grid_y in range(min_y, max_y):\n",
        "                # only if the adjacent octopi has not already flashed is the \n",
        "                # energy of this octopi increased\n",
        "                if flashed[grid_x, grid_y] == 0:\n",
        "                    grid[grid_x, grid_y] += 1\n",
        "                    # if the increase happens to put the energy above 9, this\n",
        "                    # octopi also flashes and is appended to the stack of \n",
        "                    # octopi for which we must increase the energy of its \n",
        "                    # neighbors\n",
        "                    if grid[grid_x, grid_y] > 9:\n",
        "                        flash_oct_loc.append([grid_x, grid_y])\n",
        "                        flashed[grid_x, grid_y] = 1\n",
        "\n",
        "         # any octopus that flashd during this step is reset to 0 energy               \n",
        "        grid = np.where(grid == 10, 0, grid)\n",
        "    return [flashed.sum(), grid]\n",
        "                        "
      ],
      "metadata": {
        "id": "Z_ILGZQ-ebBM"
      },
      "execution_count": 4,
      "outputs": []
    },
    {
      "cell_type": "markdown",
      "source": [
        "## Part 1"
      ],
      "metadata": {
        "id": "ZphZgLesenbJ"
      }
    },
    {
      "cell_type": "markdown",
      "source": [
        "### Test data"
      ],
      "metadata": {
        "id": "Vm1lvmwbcsw4"
      }
    },
    {
      "cell_type": "code",
      "source": [
        "tdata = np.array([list(i) for i in test_input.split('\\n')]).astype(int)"
      ],
      "metadata": {
        "id": "ny2e7UJpGvC5"
      },
      "execution_count": 5,
      "outputs": []
    },
    {
      "cell_type": "code",
      "source": [
        "grid = tdata\n",
        "grid"
      ],
      "metadata": {
        "colab": {
          "base_uri": "https://localhost:8080/"
        },
        "id": "DJEHuXxwdgBA",
        "outputId": "6c3f1e27-5037-4d60-bc83-c9f0df128632"
      },
      "execution_count": 6,
      "outputs": [
        {
          "output_type": "execute_result",
          "data": {
            "text/plain": [
              "array([[5, 4, 8, 3, 1, 4, 3, 2, 2, 3],\n",
              "       [2, 7, 4, 5, 8, 5, 4, 7, 1, 1],\n",
              "       [5, 2, 6, 4, 5, 5, 6, 1, 7, 3],\n",
              "       [6, 1, 4, 1, 3, 3, 6, 1, 4, 6],\n",
              "       [6, 3, 5, 7, 3, 8, 5, 4, 7, 8],\n",
              "       [4, 1, 6, 7, 5, 2, 4, 6, 4, 5],\n",
              "       [2, 1, 7, 6, 8, 4, 1, 7, 2, 1],\n",
              "       [6, 8, 8, 2, 8, 8, 1, 1, 3, 4],\n",
              "       [4, 8, 4, 6, 8, 4, 8, 5, 5, 4],\n",
              "       [5, 2, 8, 3, 7, 5, 1, 5, 2, 6]])"
            ]
          },
          "metadata": {},
          "execution_count": 6
        }
      ]
    },
    {
      "cell_type": "code",
      "source": [
        "c = 0\n",
        "for i in range(100):\n",
        "    [num_flashes, grid] = step(grid)\n",
        "    c+=num_flashes\n",
        "print(c)"
      ],
      "metadata": {
        "colab": {
          "base_uri": "https://localhost:8080/"
        },
        "id": "lOb_iU-MbOML",
        "outputId": "4cd4fed4-03c0-4704-d00f-7d88c9424ecf"
      },
      "execution_count": 7,
      "outputs": [
        {
          "output_type": "stream",
          "name": "stdout",
          "text": [
            "1656\n"
          ]
        }
      ]
    },
    {
      "cell_type": "markdown",
      "source": [
        "### Real data"
      ],
      "metadata": {
        "id": "6ZyoG9WJcuaP"
      }
    },
    {
      "cell_type": "code",
      "source": [
        "with open('day11input.txt') as f:\n",
        "    data = np.array([list(i) for i in f.read().strip().split('\\n')]).astype(int)\n",
        "data"
      ],
      "metadata": {
        "colab": {
          "base_uri": "https://localhost:8080/"
        },
        "id": "FMcZq0U1cv5I",
        "outputId": "f6997397-e17f-4284-e884-b9673a83a31d"
      },
      "execution_count": 8,
      "outputs": [
        {
          "output_type": "execute_result",
          "data": {
            "text/plain": [
              "array([[1, 3, 2, 6, 2, 5, 3, 3, 1, 5],\n",
              "       [3, 4, 2, 7, 7, 2, 8, 1, 1, 3],\n",
              "       [5, 7, 5, 1, 6, 1, 2, 5, 4, 2],\n",
              "       [6, 5, 4, 3, 8, 6, 8, 3, 2, 2],\n",
              "       [4, 4, 2, 2, 5, 2, 6, 2, 2, 1],\n",
              "       [2, 2, 3, 4, 3, 2, 5, 6, 4, 7],\n",
              "       [1, 7, 7, 3, 1, 7, 4, 8, 8, 7],\n",
              "       [7, 2, 8, 1, 3, 2, 1, 6, 7, 4],\n",
              "       [6, 5, 6, 2, 5, 1, 3, 1, 1, 8],\n",
              "       [4, 8, 2, 4, 5, 4, 1, 5, 2, 2]])"
            ]
          },
          "metadata": {},
          "execution_count": 8
        }
      ]
    },
    {
      "cell_type": "code",
      "source": [
        "grid = data"
      ],
      "metadata": {
        "id": "6TGRDkB2eRYZ"
      },
      "execution_count": 9,
      "outputs": []
    },
    {
      "cell_type": "code",
      "source": [
        "c = 0\n",
        "for i in range(100):\n",
        "    [num_flashes, grid] = step(grid)\n",
        "    c += num_flashes\n",
        "print(c)"
      ],
      "metadata": {
        "colab": {
          "base_uri": "https://localhost:8080/"
        },
        "id": "kQp8MduhdaJ4",
        "outputId": "c3ad9bf7-69cb-452c-82d3-25510078329d"
      },
      "execution_count": 10,
      "outputs": [
        {
          "output_type": "stream",
          "name": "stdout",
          "text": [
            "1749\n"
          ]
        }
      ]
    },
    {
      "cell_type": "markdown",
      "source": [
        "## Part 2"
      ],
      "metadata": {
        "id": "dg9cm0OCel2w"
      }
    },
    {
      "cell_type": "markdown",
      "source": [
        "### test data"
      ],
      "metadata": {
        "id": "e1mi5UYhe8dY"
      }
    },
    {
      "cell_type": "code",
      "source": [
        "grid = tdata"
      ],
      "metadata": {
        "id": "d-yvnhKFejAr"
      },
      "execution_count": 11,
      "outputs": []
    },
    {
      "cell_type": "code",
      "source": [
        "c = 0\n",
        "while (num_flashes != grid.size):\n",
        "    [num_flashes, grid] = step(grid)\n",
        "    c+=1\n",
        "print(c)"
      ],
      "metadata": {
        "colab": {
          "base_uri": "https://localhost:8080/"
        },
        "id": "0UdxUsreet34",
        "outputId": "c0a507ff-c804-456c-e634-ccf1325156ba"
      },
      "execution_count": 12,
      "outputs": [
        {
          "output_type": "stream",
          "name": "stdout",
          "text": [
            "195\n"
          ]
        }
      ]
    },
    {
      "cell_type": "markdown",
      "source": [
        "### real data"
      ],
      "metadata": {
        "id": "XF9MHDCje9VR"
      }
    },
    {
      "cell_type": "code",
      "source": [
        "grid = data\n",
        "grid"
      ],
      "metadata": {
        "colab": {
          "base_uri": "https://localhost:8080/"
        },
        "id": "8C879lOvfAXY",
        "outputId": "74c23572-3db7-47cd-abb0-0f5fba5d3a0d"
      },
      "execution_count": 13,
      "outputs": [
        {
          "output_type": "execute_result",
          "data": {
            "text/plain": [
              "array([[1, 3, 2, 6, 2, 5, 3, 3, 1, 5],\n",
              "       [3, 4, 2, 7, 7, 2, 8, 1, 1, 3],\n",
              "       [5, 7, 5, 1, 6, 1, 2, 5, 4, 2],\n",
              "       [6, 5, 4, 3, 8, 6, 8, 3, 2, 2],\n",
              "       [4, 4, 2, 2, 5, 2, 6, 2, 2, 1],\n",
              "       [2, 2, 3, 4, 3, 2, 5, 6, 4, 7],\n",
              "       [1, 7, 7, 3, 1, 7, 4, 8, 8, 7],\n",
              "       [7, 2, 8, 1, 3, 2, 1, 6, 7, 4],\n",
              "       [6, 5, 6, 2, 5, 1, 3, 1, 1, 8],\n",
              "       [4, 8, 2, 4, 5, 4, 1, 5, 2, 2]])"
            ]
          },
          "metadata": {},
          "execution_count": 13
        }
      ]
    },
    {
      "cell_type": "code",
      "source": [
        "c = 0\n",
        "num_flashes = 0\n",
        "while (num_flashes != grid.size):\n",
        "    [num_flashes, grid] = step(grid)\n",
        "    c+=1\n",
        "print(c)"
      ],
      "metadata": {
        "colab": {
          "base_uri": "https://localhost:8080/"
        },
        "id": "9q5E6qzWe-Hg",
        "outputId": "09b65ecc-6f9e-401e-c9ff-fb7e8ed053a2"
      },
      "execution_count": 14,
      "outputs": [
        {
          "output_type": "stream",
          "name": "stdout",
          "text": [
            "285\n"
          ]
        }
      ]
    }
  ]
}