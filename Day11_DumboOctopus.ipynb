{
  "nbformat": 4,
  "nbformat_minor": 0,
  "metadata": {
    "colab": {
      "name": "Day11_DumboOctopus.ipynb",
      "provenance": [],
      "authorship_tag": "ABX9TyNfjRlav7YTNjmXB4opf15/",
      "include_colab_link": true
    },
    "kernelspec": {
      "name": "python3",
      "display_name": "Python 3"
    },
    "language_info": {
      "name": "python"
    }
  },
  "cells": [
    {
      "cell_type": "markdown",
      "metadata": {
        "id": "view-in-github",
        "colab_type": "text"
      },
      "source": [
        "<a href=\"https://colab.research.google.com/github/adeviney/Advent-of-Code/blob/main/Day11_DumboOctopus.ipynb\" target=\"_parent\"><img src=\"https://colab.research.google.com/assets/colab-badge.svg\" alt=\"Open In Colab\"/></a>"
      ]
    },
    {
      "cell_type": "markdown",
      "source": [
        "# Day 11: Dumbo Octopus"
      ],
      "metadata": {
        "id": "BO6-jbSDGF0p"
      }
    },
    {
      "cell_type": "code",
      "source": [
        "import numpy as np"
      ],
      "metadata": {
        "id": "300B6oGOeNF1"
      },
      "execution_count": null,
      "outputs": []
    },
    {
      "cell_type": "code",
      "source": [
        "from scipy.signal import convolve2d\n",
        "# tried to use this to find neighboring octopi; too confusing\n",
        "# plan to try to implement this later"
      ],
      "metadata": {
        "id": "yN_R3WBzvtTB"
      },
      "execution_count": null,
      "outputs": []
    },
    {
      "cell_type": "code",
      "source": [
        "test_input = \"\"\"5483143223\n",
        "2745854711\n",
        "5264556173\n",
        "6141336146\n",
        "6357385478\n",
        "4167524645\n",
        "2176841721\n",
        "6882881134\n",
        "4846848554\n",
        "5283751526\"\"\""
      ],
      "metadata": {
        "id": "nizcISTsGJFX"
      },
      "execution_count": null,
      "outputs": []
    },
    {
      "cell_type": "code",
      "source": [
        "def step(grid):\n",
        "  flashed = np.zeros(grid.shape, dtype = 'bool')\n",
        "  grid = grid + 1\n",
        "\n",
        "  while (np.any(grid > 9)):\n",
        "    flash_oct_loc = np.where(grid > 9)\n",
        "    flashed[flash_oct_loc] = 1\n",
        "\n",
        "    for x, y in zip(flash_oct_loc[0], flash_oct_loc[1]):\n",
        "      min_x = x-1 if (x-1)>=0 else 0\n",
        "      max_x = x+2 if (x+2)< grid.shape[0] else grid.shape[0]-1\n",
        "\n",
        "      min_y = y-1 if (y-1)>= 0 else 0\n",
        "      max_y = y+2 if (y+2)< grid.shape[1] else grid.shape[1]-1\n",
        "\n",
        "      grid[min_x:max_x, min_y:max_y] = \n"
      ],
      "metadata": {
        "id": "Z_ILGZQ-ebBM"
      },
      "execution_count": null,
      "outputs": []
    },
    {
      "cell_type": "code",
      "source": [
        "np.any(grid > 9)"
      ],
      "metadata": {
        "colab": {
          "base_uri": "https://localhost:8080/"
        },
        "id": "fOr43zrQaxr3",
        "outputId": "afcfb3e7-8e4a-4465-efa7-1a0019d169fe"
      },
      "execution_count": null,
      "outputs": [
        {
          "output_type": "execute_result",
          "data": {
            "text/plain": [
              "True"
            ]
          },
          "metadata": {},
          "execution_count": 63
        }
      ]
    },
    {
      "cell_type": "code",
      "source": [
        "grid = np.array([list(i) for i in test_input.split('\\n')]).astype(int)"
      ],
      "metadata": {
        "id": "ny2e7UJpGvC5"
      },
      "execution_count": null,
      "outputs": []
    },
    {
      "cell_type": "code",
      "source": [
        "grid = grid+1"
      ],
      "metadata": {
        "id": "qdLUoxmibKM3"
      },
      "execution_count": null,
      "outputs": []
    },
    {
      "cell_type": "code",
      "source": [
        "grid.shape"
      ],
      "metadata": {
        "colab": {
          "base_uri": "https://localhost:8080/"
        },
        "id": "RwVaEJv7cId_",
        "outputId": "b01977ff-7974-4494-965a-54e3d5ea8c57"
      },
      "execution_count": null,
      "outputs": [
        {
          "output_type": "execute_result",
          "data": {
            "text/plain": [
              "(10, 10)"
            ]
          },
          "metadata": {},
          "execution_count": 86
        }
      ]
    },
    {
      "cell_type": "code",
      "source": [
        "grid[9,0]"
      ],
      "metadata": {
        "colab": {
          "base_uri": "https://localhost:8080/"
        },
        "id": "TnSSMSYSbMub",
        "outputId": "c088796b-1216-44f9-d48a-16f5c7dbbc23"
      },
      "execution_count": null,
      "outputs": [
        {
          "output_type": "execute_result",
          "data": {
            "text/plain": [
              "7"
            ]
          },
          "metadata": {},
          "execution_count": 88
        }
      ]
    },
    {
      "cell_type": "code",
      "source": [
        "flash_oct_loc = np.where(grid > 9)"
      ],
      "metadata": {
        "id": "8Za2W_GIbOOy"
      },
      "execution_count": null,
      "outputs": []
    },
    {
      "cell_type": "code",
      "source": [
        "flash_oct_loc"
      ],
      "metadata": {
        "colab": {
          "base_uri": "https://localhost:8080/"
        },
        "id": "bbvAkk2FeasZ",
        "outputId": "efb899dd-2b4e-43e8-f0be-f955f94f5dbf"
      },
      "execution_count": null,
      "outputs": [
        {
          "output_type": "execute_result",
          "data": {
            "text/plain": [
              "(array([0, 1, 4, 4, 6, 7, 7, 7, 7, 8, 8, 8, 9]),\n",
              " array([2, 4, 5, 9, 4, 1, 2, 4, 5, 1, 4, 6, 2]))"
            ]
          },
          "metadata": {},
          "execution_count": 90
        }
      ]
    },
    {
      "cell_type": "code",
      "source": [
        "for x, y in zip(flash_oct_loc[0], flash_oct_loc[1]):\n",
        "      min_x = x-1 if (x-1)>=0 else 0\n",
        "      max_x = x+2 if (x+2)< grid.shape[0] else grid.shape[0]-1\n",
        "\n",
        "      min_y = y-1 if (y-1)>= 0 else 0\n",
        "      max_y = y+2 if (y+2)< grid.shape[1] else grid.shape[1]-1\n",
        "\n",
        "      #grid[min_x:max_x, min_y:max_y] = "
      ],
      "metadata": {
        "id": "hREdvuRLeXpV"
      },
      "execution_count": null,
      "outputs": []
    },
    {
      "cell_type": "code",
      "source": [
        "x = 0\n",
        "y = 2"
      ],
      "metadata": {
        "id": "pGzsd8lMbPj0"
      },
      "execution_count": null,
      "outputs": []
    },
    {
      "cell_type": "code",
      "source": [
        "x-1"
      ],
      "metadata": {
        "colab": {
          "base_uri": "https://localhost:8080/"
        },
        "id": "1xyqrnyVbY0j",
        "outputId": "e1e922f2-00d1-4d65-c149-eb592d298784"
      },
      "execution_count": null,
      "outputs": [
        {
          "output_type": "execute_result",
          "data": {
            "text/plain": [
              "-1"
            ]
          },
          "metadata": {},
          "execution_count": 85
        }
      ]
    },
    {
      "cell_type": "code",
      "source": [
        "grid[x-1:x+2, y-1:y+2]"
      ],
      "metadata": {
        "colab": {
          "base_uri": "https://localhost:8080/"
        },
        "id": "2dulVOcWhxc1",
        "outputId": "8ced4308-5866-41b6-e47d-39735247cdec"
      },
      "execution_count": null,
      "outputs": [
        {
          "output_type": "execute_result",
          "data": {
            "text/plain": [
              "array([], shape=(0, 3), dtype=int64)"
            ]
          },
          "metadata": {},
          "execution_count": 82
        }
      ]
    },
    {
      "cell_type": "code",
      "source": [
        "x = 1\n",
        "y = 2"
      ],
      "metadata": {
        "id": "_AtJjorywAR_"
      },
      "execution_count": null,
      "outputs": []
    },
    {
      "cell_type": "code",
      "source": [
        "mask = np.array([[1, 1, 1], [1, 0, 1], [1, 1, 1]])\n",
        "\n",
        "res = convolve2d(grid, mask, 'same')"
      ],
      "metadata": {
        "id": "H8495mzxwW4Y"
      },
      "execution_count": null,
      "outputs": []
    },
    {
      "cell_type": "code",
      "source": [
        "grid"
      ],
      "metadata": {
        "colab": {
          "base_uri": "https://localhost:8080/"
        },
        "id": "AHxIGMS_w1P6",
        "outputId": "22f7b03d-d95f-42cb-9352-351e3a4a160c"
      },
      "execution_count": null,
      "outputs": [
        {
          "output_type": "execute_result",
          "data": {
            "text/plain": [
              "array([[ 7,  6, 10,  5,  3,  6,  5,  4,  4,  5],\n",
              "       [ 4,  9,  6,  7, 10,  7,  6,  9,  3,  3],\n",
              "       [ 7,  4,  8,  6,  7,  7,  8,  3,  9,  5],\n",
              "       [ 8,  3,  6,  3,  5,  5,  8,  3,  6,  8],\n",
              "       [ 8,  5,  7,  9,  5, 10,  7,  6,  9, 10],\n",
              "       [ 6,  3,  8,  9,  7,  4,  6,  8,  6,  7],\n",
              "       [ 4,  3,  9,  8, 10,  6,  3,  9,  4,  3],\n",
              "       [ 8, 10, 10,  4, 10, 10,  3,  3,  5,  6],\n",
              "       [ 6, 10,  6,  8, 10,  6, 10,  7,  7,  6],\n",
              "       [ 7,  4, 10,  5,  9,  7,  3,  7,  4,  8]])"
            ]
          },
          "metadata": {},
          "execution_count": 75
        }
      ]
    },
    {
      "cell_type": "code",
      "source": [
        "res"
      ],
      "metadata": {
        "colab": {
          "base_uri": "https://localhost:8080/"
        },
        "id": "lJLe_O5dwz1P",
        "outputId": "aaa9b2f7-70ef-4a34-c488-1a4d76783ce8"
      },
      "execution_count": null,
      "outputs": [
        {
          "output_type": "execute_result",
          "data": {
            "text/plain": [
              "array([[19, 36, 33, 36, 35, 31, 32, 27, 24, 10],\n",
              "       [33, 52, 55, 55, 48, 52, 49, 42, 42, 26],\n",
              "       [28, 51, 44, 52, 50, 56, 48, 52, 40, 29],\n",
              "       [27, 53, 45, 53, 52, 57, 49, 56, 53, 39],\n",
              "       [25, 49, 46, 50, 52, 47, 50, 53, 54, 36],\n",
              "       [23, 50, 53, 63, 61, 54, 53, 50, 56, 32],\n",
              "       [30, 58, 55, 67, 58, 53, 49, 38, 47, 28],\n",
              "       [33, 56, 58, 71, 62, 58, 54, 48, 45, 25],\n",
              "       [39, 61, 61, 64, 59, 62, 46, 42, 46, 30],\n",
              "       [20, 39, 33, 43, 36, 38, 37, 31, 35, 17]])"
            ]
          },
          "metadata": {},
          "execution_count": 74
        }
      ]
    },
    {
      "cell_type": "code",
      "source": [
        "filter = np.array([[1,1,1],[1,0,1],[1,1,1]], dtype = bool)\n",
        "filter"
      ],
      "metadata": {
        "colab": {
          "base_uri": "https://localhost:8080/"
        },
        "id": "xDiS6VR_oXoa",
        "outputId": "faa93110-9bbe-4e6d-c451-3df1e6f85cfe"
      },
      "execution_count": null,
      "outputs": [
        {
          "output_type": "execute_result",
          "data": {
            "text/plain": [
              "array([[ True,  True,  True],\n",
              "       [ True, False,  True],\n",
              "       [ True,  True,  True]])"
            ]
          },
          "metadata": {},
          "execution_count": 58
        }
      ]
    },
    {
      "cell_type": "code",
      "source": [
        "for j, x in enumerate(test_input.split('\\n')):\n",
        "  for i, y in enumerate(list(x)):\n",
        "    print(f\"{y} - {i},{j}\")"
      ],
      "metadata": {
        "colab": {
          "base_uri": "https://localhost:8080/"
        },
        "id": "_6AEhFweGe0V",
        "outputId": "d40c1cff-8f3d-4605-aa92-919d032558df"
      },
      "execution_count": null,
      "outputs": [
        {
          "output_type": "stream",
          "name": "stdout",
          "text": [
            "5 - 0,0\n",
            "4 - 1,0\n",
            "8 - 2,0\n",
            "3 - 3,0\n",
            "1 - 4,0\n",
            "4 - 5,0\n",
            "3 - 6,0\n",
            "2 - 7,0\n",
            "2 - 8,0\n",
            "3 - 9,0\n",
            "2 - 0,1\n",
            "7 - 1,1\n",
            "4 - 2,1\n",
            "5 - 3,1\n",
            "8 - 4,1\n",
            "5 - 5,1\n",
            "4 - 6,1\n",
            "7 - 7,1\n",
            "1 - 8,1\n",
            "1 - 9,1\n",
            "5 - 0,2\n",
            "2 - 1,2\n",
            "6 - 2,2\n",
            "4 - 3,2\n",
            "5 - 4,2\n",
            "5 - 5,2\n",
            "6 - 6,2\n",
            "1 - 7,2\n",
            "7 - 8,2\n",
            "3 - 9,2\n",
            "6 - 0,3\n",
            "1 - 1,3\n",
            "4 - 2,3\n",
            "1 - 3,3\n",
            "3 - 4,3\n",
            "3 - 5,3\n",
            "6 - 6,3\n",
            "1 - 7,3\n",
            "4 - 8,3\n",
            "6 - 9,3\n",
            "6 - 0,4\n",
            "3 - 1,4\n",
            "5 - 2,4\n",
            "7 - 3,4\n",
            "3 - 4,4\n",
            "8 - 5,4\n",
            "5 - 6,4\n",
            "4 - 7,4\n",
            "7 - 8,4\n",
            "8 - 9,4\n",
            "4 - 0,5\n",
            "1 - 1,5\n",
            "6 - 2,5\n",
            "7 - 3,5\n",
            "5 - 4,5\n",
            "2 - 5,5\n",
            "4 - 6,5\n",
            "6 - 7,5\n",
            "4 - 8,5\n",
            "5 - 9,5\n",
            "2 - 0,6\n",
            "1 - 1,6\n",
            "7 - 2,6\n",
            "6 - 3,6\n",
            "8 - 4,6\n",
            "4 - 5,6\n",
            "1 - 6,6\n",
            "7 - 7,6\n",
            "2 - 8,6\n",
            "1 - 9,6\n",
            "6 - 0,7\n",
            "8 - 1,7\n",
            "8 - 2,7\n",
            "2 - 3,7\n",
            "8 - 4,7\n",
            "8 - 5,7\n",
            "1 - 6,7\n",
            "1 - 7,7\n",
            "3 - 8,7\n",
            "4 - 9,7\n",
            "4 - 0,8\n",
            "8 - 1,8\n",
            "4 - 2,8\n",
            "6 - 3,8\n",
            "8 - 4,8\n",
            "4 - 5,8\n",
            "8 - 6,8\n",
            "5 - 7,8\n",
            "5 - 8,8\n",
            "4 - 9,8\n",
            "5 - 0,9\n",
            "2 - 1,9\n",
            "8 - 2,9\n",
            "3 - 3,9\n",
            "7 - 4,9\n",
            "5 - 5,9\n",
            "1 - 6,9\n",
            "5 - 7,9\n",
            "2 - 8,9\n",
            "6 - 9,9\n"
          ]
        }
      ]
    }
  ]
}