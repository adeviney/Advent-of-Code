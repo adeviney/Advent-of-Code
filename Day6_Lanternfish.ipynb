{
  "nbformat": 4,
  "nbformat_minor": 0,
  "metadata": {
    "colab": {
      "name": "Day6_Lanternfish.ipynb",
      "provenance": [],
      "authorship_tag": "ABX9TyOII5mylmgW+gXAXu4dvMiL",
      "include_colab_link": true
    },
    "kernelspec": {
      "name": "python3",
      "display_name": "Python 3"
    },
    "language_info": {
      "name": "python"
    }
  },
  "cells": [
    {
      "cell_type": "markdown",
      "metadata": {
        "id": "view-in-github",
        "colab_type": "text"
      },
      "source": [
        "<a href=\"https://colab.research.google.com/github/adeviney/Advent-of-Code/blob/main/Day6_Lanternfish.ipynb\" target=\"_parent\"><img src=\"https://colab.research.google.com/assets/colab-badge.svg\" alt=\"Open In Colab\"/></a>"
      ]
    },
    {
      "cell_type": "markdown",
      "source": [
        "# Day 6: Lanternfish\n",
        "\n"
      ],
      "metadata": {
        "id": "amxgEIkZWr1w"
      }
    },
    {
      "cell_type": "markdown",
      "source": [
        "## Part 1"
      ],
      "metadata": {
        "id": "JhbkVj1Katsq"
      }
    },
    {
      "cell_type": "code",
      "source": [
        "class LanternFish:\n",
        "  def __init__(self, timer = 9):\n",
        "    self.timer = timer\n",
        "\n",
        "  def passingDay(self):\n",
        "    self.timer += -1\n",
        "    if (self.timer < 0):\n",
        "      self.timer = 6\n",
        "      return True\n",
        "    return False"
      ],
      "metadata": {
        "id": "Tjo6QevoW5BP"
      },
      "execution_count": 77,
      "outputs": []
    },
    {
      "cell_type": "code",
      "source": [
        "def read_file(filename = 'day6input.txt'):\n",
        "  with open(filename) as f:\n",
        "    nums = [int (x) for x in f.read().split(',')]\n",
        "  return nums"
      ],
      "metadata": {
        "id": "aUpXXD93y1ya"
      },
      "execution_count": 2,
      "outputs": []
    },
    {
      "cell_type": "code",
      "source": [
        "test_data = [3,4,3,1,2]"
      ],
      "metadata": {
        "id": "ngNCEVqhWw6U"
      },
      "execution_count": 78,
      "outputs": []
    },
    {
      "cell_type": "code",
      "source": [
        "real_data = read_file()"
      ],
      "metadata": {
        "id": "fGYffInvzT6F"
      },
      "execution_count": 79,
      "outputs": []
    },
    {
      "cell_type": "code",
      "source": [
        "fish = [LanternFish(x) for x in real_data]#test_data]"
      ],
      "metadata": {
        "id": "LMByC5C7W4b8"
      },
      "execution_count": 80,
      "outputs": []
    },
    {
      "cell_type": "code",
      "source": [
        "for i in range(80):\n",
        "  for f in fish:\n",
        "    newFish = f.passingDay()\n",
        "    if (newFish):\n",
        "      fish.append(LanternFish())"
      ],
      "metadata": {
        "id": "_QITkA4lj8wF"
      },
      "execution_count": 81,
      "outputs": []
    },
    {
      "cell_type": "code",
      "source": [
        "len(fish)"
      ],
      "metadata": {
        "colab": {
          "base_uri": "https://localhost:8080/"
        },
        "id": "QdWhoB10tYQQ",
        "outputId": "88c466b1-d417-432a-9fbe-b556976334f6"
      },
      "execution_count": 82,
      "outputs": [
        {
          "output_type": "execute_result",
          "data": {
            "text/plain": [
              "395627"
            ]
          },
          "metadata": {},
          "execution_count": 82
        }
      ]
    },
    {
      "cell_type": "markdown",
      "source": [
        "## Part 2\n",
        "Time to find a less expensive solution"
      ],
      "metadata": {
        "id": "bmLtQXUrarNY"
      }
    },
    {
      "cell_type": "code",
      "source": [
        "class School():\n",
        "  def __init__(self, init_fish):\n",
        "    self.fish_groups = [init_fish.count(i) for i in range(0,9)]\n",
        "  \n",
        "  def time_passes(self, num_days = 1):\n",
        "    for i in range(num_days):\n",
        "      self.fish_groups = self.fish_groups[1:] + self.fish_groups[0:1]\n",
        "      self.fish_groups[6] += self.fish_groups[-1]\n",
        "  \n",
        "  def current_num_fish(self):\n",
        "    return sum(self.fish_groups)"
      ],
      "metadata": {
        "id": "9YwH0L-I1HIQ"
      },
      "execution_count": 67,
      "outputs": []
    },
    {
      "cell_type": "code",
      "source": [
        "part2 = School(real_data)"
      ],
      "metadata": {
        "id": "ScjgTVKoas6D"
      },
      "execution_count": 73,
      "outputs": []
    },
    {
      "cell_type": "code",
      "source": [
        "part2.time_passes(256)"
      ],
      "metadata": {
        "id": "m_I8De7km7Uu"
      },
      "execution_count": 74,
      "outputs": []
    },
    {
      "cell_type": "code",
      "source": [
        "part2.current_num_fish()"
      ],
      "metadata": {
        "colab": {
          "base_uri": "https://localhost:8080/"
        },
        "id": "_QVKHKgomSOl",
        "outputId": "d5753d41-ab10-4ebf-b199-8e867e8bc8a9"
      },
      "execution_count": 75,
      "outputs": [
        {
          "output_type": "execute_result",
          "data": {
            "text/plain": [
              "1767323539209"
            ]
          },
          "metadata": {},
          "execution_count": 75
        }
      ]
    }
  ]
}