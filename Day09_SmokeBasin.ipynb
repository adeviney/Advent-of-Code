{
  "nbformat": 4,
  "nbformat_minor": 0,
  "metadata": {
    "colab": {
      "name": "Day9_SmokeBasin.ipynb",
      "provenance": [],
      "authorship_tag": "ABX9TyNsCAzAOzIg7/radBZlSrqj",
      "include_colab_link": true
    },
    "kernelspec": {
      "name": "python3",
      "display_name": "Python 3"
    },
    "language_info": {
      "name": "python"
    }
  },
  "cells": [
    {
      "cell_type": "markdown",
      "metadata": {
        "id": "view-in-github",
        "colab_type": "text"
      },
      "source": [
        "<a href=\"https://colab.research.google.com/github/adeviney/Advent-of-Code/blob/main/Day9_SmokeBasin.ipynb\" target=\"_parent\"><img src=\"https://colab.research.google.com/assets/colab-badge.svg\" alt=\"Open In Colab\"/></a>"
      ]
    },
    {
      "cell_type": "markdown",
      "source": [
        "# Day 9 - Smoke Basin"
      ],
      "metadata": {
        "id": "QZKO33L-Ervn"
      }
    },
    {
      "cell_type": "markdown",
      "source": [
        "## Part 1"
      ],
      "metadata": {
        "id": "2Iy1k7csS4vS"
      }
    },
    {
      "cell_type": "code",
      "source": [
        "import numpy as np"
      ],
      "metadata": {
        "id": "ukSAHIg0KIPe"
      },
      "execution_count": 1,
      "outputs": []
    },
    {
      "cell_type": "code",
      "source": [
        "# returns {coordinates of adjacent location: value of adjacent location} for all adjacents\n",
        "def find_adjacents(X, coord):\n",
        "    x = coord[0]\n",
        "    y = coord[1]\n",
        "    max_x = X.shape[0]-1\n",
        "    max_y = X.shape[1]-1\n",
        "\n",
        "\n",
        "    adj = [(x-1,y), (x+1,y), (x,y-1), (x, y+1)]\n",
        "    coords_of_adjs = [x for x in adj if (x[0]>=0) & (x[0]<= max_x) & (x[1] >=0) & (x[1] <= max_y)]\n",
        "    adj_values = [X[x] for x in coords_of_adjs]\n",
        "    return {coord: value for coord, value in zip(coords_of_adjs, adj_values)}"
      ],
      "metadata": {
        "id": "dkdksAAiZEES"
      },
      "execution_count": 2,
      "outputs": []
    },
    {
      "cell_type": "code",
      "execution_count": 3,
      "metadata": {
        "id": "T1kehGKGEpz6"
      },
      "outputs": [],
      "source": [
        "test_data = \"\"\"2199943210\n",
        "3987894921\n",
        "9856789892\n",
        "8767896789\n",
        "9899965678\"\"\""
      ]
    },
    {
      "cell_type": "code",
      "source": [
        "ex_data = np.array([list(i) for i in test_data.split('\\n')])\n",
        "ex_data = ex_data.astype(int)\n",
        "ex_data"
      ],
      "metadata": {
        "colab": {
          "base_uri": "https://localhost:8080/"
        },
        "id": "FWXPazRZJw_-",
        "outputId": "4cafbf0c-4409-4fb9-c537-1ff10526e874"
      },
      "execution_count": 4,
      "outputs": [
        {
          "output_type": "execute_result",
          "data": {
            "text/plain": [
              "array([[2, 1, 9, 9, 9, 4, 3, 2, 1, 0],\n",
              "       [3, 9, 8, 7, 8, 9, 4, 9, 2, 1],\n",
              "       [9, 8, 5, 6, 7, 8, 9, 8, 9, 2],\n",
              "       [8, 7, 6, 7, 8, 9, 6, 7, 8, 9],\n",
              "       [9, 8, 9, 9, 9, 6, 5, 6, 7, 8]])"
            ]
          },
          "metadata": {},
          "execution_count": 4
        }
      ]
    },
    {
      "cell_type": "code",
      "source": [
        "# test with example \n",
        "X = ex_data\n",
        "low_points = []\n",
        "low_point_coords_test = [] #for part2\n",
        "for x in range(X.shape[0]):\n",
        "    for y in range(X.shape[1]):\n",
        "        test_values = find_adjacents(X, (x,y)).values()\n",
        "        if X[x,y] < min(test_values):\n",
        "            low_points.append(X[x,y])\n",
        "            low_point_coords_test.append((x,y))\n",
        "risk_level = sum(low_points) + len(low_points)\n",
        "risk_level"
      ],
      "metadata": {
        "colab": {
          "base_uri": "https://localhost:8080/"
        },
        "id": "ibIggveUOoTo",
        "outputId": "90f51b25-4be5-49e8-badb-5afa1f62264d"
      },
      "execution_count": 5,
      "outputs": [
        {
          "output_type": "execute_result",
          "data": {
            "text/plain": [
              "15"
            ]
          },
          "metadata": {},
          "execution_count": 5
        }
      ]
    },
    {
      "cell_type": "code",
      "source": [
        "def read_file(filename = 'day9.txt'):\n",
        "  with open(filename) as f:\n",
        "    data = np.array(([list(i) for i in f.read().split('\\n') if i != '']))\n",
        "    data = data.astype(int)\n",
        "  return data"
      ],
      "metadata": {
        "id": "UZBCEt_3Q70B"
      },
      "execution_count": 6,
      "outputs": []
    },
    {
      "cell_type": "code",
      "source": [
        "real_data = read_file()\n",
        "real_data"
      ],
      "metadata": {
        "colab": {
          "base_uri": "https://localhost:8080/"
        },
        "id": "-W9ubMPgRK7I",
        "outputId": "cf8b1365-54fb-4f39-f2d7-1bb3d76b7bfb"
      },
      "execution_count": 7,
      "outputs": [
        {
          "output_type": "execute_result",
          "data": {
            "text/plain": [
              "array([[3, 5, 6, ..., 9, 2, 1],\n",
              "       [2, 4, 5, ..., 5, 3, 0],\n",
              "       [0, 1, 9, ..., 9, 9, 1],\n",
              "       ...,\n",
              "       [3, 4, 9, ..., 8, 9, 9],\n",
              "       [6, 5, 6, ..., 6, 7, 8],\n",
              "       [9, 7, 9, ..., 7, 8, 9]])"
            ]
          },
          "metadata": {},
          "execution_count": 7
        }
      ]
    },
    {
      "cell_type": "code",
      "source": [
        "# answer for real data\n",
        "X = real_data\n",
        "low_points = []\n",
        "low_point_coords = [] #for part2\n",
        "for x in range(X.shape[0]):\n",
        "    for y in range(X.shape[1]):\n",
        "        test_values = find_adjacents(X, (x,y)).values()\n",
        "        if X[x,y] < min(test_values):\n",
        "            low_points.append(X[x,y])\n",
        "            low_point_coords.append((x,y))\n",
        "risk_level = sum(low_points) + len(low_points)\n",
        "risk_level"
      ],
      "metadata": {
        "colab": {
          "base_uri": "https://localhost:8080/"
        },
        "id": "XyZcGm7DRp8o",
        "outputId": "7b9b2663-3312-446b-c05f-bca597736db5"
      },
      "execution_count": 8,
      "outputs": [
        {
          "output_type": "execute_result",
          "data": {
            "text/plain": [
              "600"
            ]
          },
          "metadata": {},
          "execution_count": 8
        }
      ]
    },
    {
      "cell_type": "markdown",
      "source": [
        "## Part 2"
      ],
      "metadata": {
        "id": "JPUCXSNwS3jB"
      }
    },
    {
      "cell_type": "code",
      "source": [
        "# Depth-first search\n",
        "def get_basin_size(X, source):\n",
        "    visited = []\n",
        "    stack = [source]\n",
        "    size = 1\n",
        "    while (len(stack) != 0):\n",
        "        s = stack.pop()\n",
        "        if s not in visited:\n",
        "            visited.append(s)\n",
        "            for c,v in find_adjacents(X,s).items():\n",
        "                if(v != 9):\n",
        "                    stack.append(c)\n",
        "    return len(visited)"
      ],
      "metadata": {
        "id": "IrPxYvRvniyv"
      },
      "execution_count": 9,
      "outputs": []
    },
    {
      "cell_type": "code",
      "source": [
        "low_point_coords_test"
      ],
      "metadata": {
        "colab": {
          "base_uri": "https://localhost:8080/"
        },
        "id": "7W0sRNr0vp7B",
        "outputId": "c778fdfa-923d-4772-c06e-25d885c5576d"
      },
      "execution_count": 10,
      "outputs": [
        {
          "output_type": "execute_result",
          "data": {
            "text/plain": [
              "[(0, 1), (0, 9), (2, 2), (4, 6)]"
            ]
          },
          "metadata": {},
          "execution_count": 10
        }
      ]
    },
    {
      "cell_type": "code",
      "source": [
        "# test\n",
        "basins = []\n",
        "for lp in low_point_coords_test:\n",
        "    basins.append(get_basin_size(ex_data,lp))\n",
        "basins.sort()\n",
        "basins\n",
        "np.prod(basins[-3:])"
      ],
      "metadata": {
        "colab": {
          "base_uri": "https://localhost:8080/"
        },
        "id": "HxonlGIAvhcJ",
        "outputId": "6dc258c3-9bc9-484c-bd0d-211d1f46c846"
      },
      "execution_count": 11,
      "outputs": [
        {
          "output_type": "execute_result",
          "data": {
            "text/plain": [
              "1134"
            ]
          },
          "metadata": {},
          "execution_count": 11
        }
      ]
    },
    {
      "cell_type": "code",
      "source": [
        "# real data\n",
        "basins = []\n",
        "for lp in low_point_coords:\n",
        "    basins.append(get_basin_size(X,lp))\n",
        "basins.sort()\n",
        "basins\n",
        "np.prod(basins[-3:])"
      ],
      "metadata": {
        "colab": {
          "base_uri": "https://localhost:8080/"
        },
        "id": "wSI_BXKyokiw",
        "outputId": "ca274354-6115-4267-c1ef-b5f6691ea7f3"
      },
      "execution_count": 12,
      "outputs": [
        {
          "output_type": "execute_result",
          "data": {
            "text/plain": [
              "987840"
            ]
          },
          "metadata": {},
          "execution_count": 12
        }
      ]
    }
  ]
}