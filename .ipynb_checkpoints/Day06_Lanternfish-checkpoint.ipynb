{
 "cells": [
  {
   "cell_type": "markdown",
   "metadata": {
    "colab_type": "text",
    "id": "view-in-github"
   },
   "source": [
    "<a href=\"https://colab.research.google.com/github/adeviney/Advent-of-Code/blob/main/Day6_Lanternfish.ipynb\" target=\"_parent\"><img src=\"https://colab.research.google.com/assets/colab-badge.svg\" alt=\"Open In Colab\"/></a>"
   ]
  },
  {
   "cell_type": "markdown",
   "metadata": {
    "id": "amxgEIkZWr1w"
   },
   "source": [
    "# Day 6: Lanternfish\n",
    "\n"
   ]
  },
  {
   "cell_type": "markdown",
   "metadata": {
    "id": "JhbkVj1Katsq"
   },
   "source": [
    "## Part 1"
   ]
  },
  {
   "cell_type": "code",
   "execution_count": 77,
   "metadata": {
    "id": "Tjo6QevoW5BP"
   },
   "outputs": [],
   "source": [
    "class LanternFish:\n",
    "  def __init__(self, timer = 9):\n",
    "    self.timer = timer\n",
    "\n",
    "  def passingDay(self):\n",
    "    self.timer += -1\n",
    "    if (self.timer < 0):\n",
    "      self.timer = 6\n",
    "      return True\n",
    "    return False"
   ]
  },
  {
   "cell_type": "code",
   "execution_count": 2,
   "metadata": {
    "id": "aUpXXD93y1ya"
   },
   "outputs": [],
   "source": [
    "def read_file(filename = 'day6input.txt'):\n",
    "  with open(filename) as f:\n",
    "    nums = [int (x) for x in f.read().split(',')]\n",
    "  return nums"
   ]
  },
  {
   "cell_type": "code",
   "execution_count": 78,
   "metadata": {
    "id": "ngNCEVqhWw6U"
   },
   "outputs": [],
   "source": [
    "test_data = [3,4,3,1,2]"
   ]
  },
  {
   "cell_type": "code",
   "execution_count": 79,
   "metadata": {
    "id": "fGYffInvzT6F"
   },
   "outputs": [],
   "source": [
    "real_data = read_file()"
   ]
  },
  {
   "cell_type": "code",
   "execution_count": 80,
   "metadata": {
    "id": "LMByC5C7W4b8"
   },
   "outputs": [],
   "source": [
    "fish = [LanternFish(x) for x in real_data]#test_data]"
   ]
  },
  {
   "cell_type": "code",
   "execution_count": 81,
   "metadata": {
    "id": "_QITkA4lj8wF"
   },
   "outputs": [],
   "source": [
    "for i in range(80):\n",
    "  for f in fish:\n",
    "    newFish = f.passingDay()\n",
    "    if (newFish):\n",
    "      fish.append(LanternFish())"
   ]
  },
  {
   "cell_type": "code",
   "execution_count": 82,
   "metadata": {
    "colab": {
     "base_uri": "https://localhost:8080/"
    },
    "id": "QdWhoB10tYQQ",
    "outputId": "88c466b1-d417-432a-9fbe-b556976334f6"
   },
   "outputs": [
    {
     "data": {
      "text/plain": [
       "395627"
      ]
     },
     "execution_count": 82,
     "metadata": {},
     "output_type": "execute_result"
    }
   ],
   "source": [
    "len(fish)"
   ]
  },
  {
   "cell_type": "markdown",
   "metadata": {
    "id": "bmLtQXUrarNY"
   },
   "source": [
    "## Part 2\n",
    "Time to find a less expensive solution"
   ]
  },
  {
   "cell_type": "code",
   "execution_count": 67,
   "metadata": {
    "id": "9YwH0L-I1HIQ"
   },
   "outputs": [],
   "source": [
    "class School():\n",
    "  def __init__(self, init_fish):\n",
    "    self.fish_groups = [init_fish.count(i) for i in range(0,9)]\n",
    "  \n",
    "  def time_passes(self, num_days = 1):\n",
    "    for i in range(num_days):\n",
    "      self.fish_groups = self.fish_groups[1:] + self.fish_groups[0:1]\n",
    "      self.fish_groups[6] += self.fish_groups[-1]\n",
    "  \n",
    "  def current_num_fish(self):\n",
    "    return sum(self.fish_groups)"
   ]
  },
  {
   "cell_type": "code",
   "execution_count": 73,
   "metadata": {
    "id": "ScjgTVKoas6D"
   },
   "outputs": [],
   "source": [
    "part2 = School(real_data)"
   ]
  },
  {
   "cell_type": "code",
   "execution_count": 74,
   "metadata": {
    "id": "m_I8De7km7Uu"
   },
   "outputs": [],
   "source": [
    "part2.time_passes(256)"
   ]
  },
  {
   "cell_type": "code",
   "execution_count": 75,
   "metadata": {
    "colab": {
     "base_uri": "https://localhost:8080/"
    },
    "id": "_QVKHKgomSOl",
    "outputId": "d5753d41-ab10-4ebf-b199-8e867e8bc8a9"
   },
   "outputs": [
    {
     "data": {
      "text/plain": [
       "1767323539209"
      ]
     },
     "execution_count": 75,
     "metadata": {},
     "output_type": "execute_result"
    }
   ],
   "source": [
    "part2.current_num_fish()"
   ]
  }
 ],
 "metadata": {
  "colab": {
   "authorship_tag": "ABX9TyOII5mylmgW+gXAXu4dvMiL",
   "include_colab_link": true,
   "name": "Day6_Lanternfish.ipynb",
   "provenance": []
  },
  "kernelspec": {
   "display_name": "Python 3 (ipykernel)",
   "language": "python",
   "name": "python3"
  },
  "language_info": {
   "codemirror_mode": {
    "name": "ipython",
    "version": 3
   },
   "file_extension": ".py",
   "mimetype": "text/x-python",
   "name": "python",
   "nbconvert_exporter": "python",
   "pygments_lexer": "ipython3",
   "version": "3.7.12"
  },
  "toc": {
   "base_numbering": 1,
   "nav_menu": {},
   "number_sections": true,
   "sideBar": true,
   "skip_h1_title": false,
   "title_cell": "Table of Contents",
   "title_sidebar": "Contents",
   "toc_cell": false,
   "toc_position": {},
   "toc_section_display": true,
   "toc_window_display": false
  }
 },
 "nbformat": 4,
 "nbformat_minor": 1
}
