{
 "cells": [
  {
   "cell_type": "markdown",
   "metadata": {
    "colab_type": "text",
    "id": "view-in-github"
   },
   "source": [
    "<a href=\"https://colab.research.google.com/github/adeviney/Advent-of-Code/blob/main/Day13_TransparentOrgami.ipynb\" target=\"_parent\"><img src=\"https://colab.research.google.com/assets/colab-badge.svg\" alt=\"Open In Colab\"/></a>"
   ]
  },
  {
   "cell_type": "markdown",
   "metadata": {
    "id": "IJX7lYePQa1o"
   },
   "source": [
    "# Day 13: Transparent Origami\n",
    "## Part 1\n",
    "### Define Functions Needed\n"
   ]
  },
  {
   "cell_type": "code",
   "execution_count": 1,
   "metadata": {
    "id": "J-Q29WnigYrt"
   },
   "outputs": [],
   "source": [
    "import numpy as np"
   ]
  },
  {
   "cell_type": "code",
   "execution_count": 2,
   "metadata": {},
   "outputs": [],
   "source": [
    "def parse(source):\n",
    "    if source.endswith(\".txt\"):\n",
    "        try:\n",
    "            with open(source) as f:\n",
    "                source = f.read().strip()\n",
    "        except:\n",
    "            print(\"file not found, please try again\")\n",
    "            return -1\n",
    "\n",
    "    lines = source.split('\\n')\n",
    "    folds = [x for x in lines if x.startswith('fold')]\n",
    "    coordinates = lines[:-(len(folds) + 1)]\n",
    "    coords = [xy for xy in (c.split(\",\") for c in coordinates)]\n",
    "    coords = [[int(j) for j in i] for i in coords]\n",
    "    coords = np.array(coords)\n",
    "    \n",
    "    return coords, folds"
   ]
  },
  {
   "cell_type": "code",
   "execution_count": 3,
   "metadata": {},
   "outputs": [],
   "source": [
    "def one_fold(coords, folds):\n",
    "    fold = folds[0]\n",
    "    dir, val = fold.split('=')\n",
    "    dir = dir[-1] # direction of fold, x (left) or y (up)\n",
    "    val = int(val) # numeric value on which to perform the fold\n",
    "    \n",
    "    maxX = max(coords[:, 0])\n",
    "    maxY = max(coords[:, 1])\n",
    "    \n",
    "    if ((dir == 'x') & (val < maxX/2)):\n",
    "        print(\"overlap on left\")\n",
    "    elif ((dir == 'y') & (val < maxY/2)):\n",
    "        print(\"overlap on top\")\n",
    "        \n",
    "    if (dir == 'y'): # fold UP\n",
    "        folded_points = np.where(coords[:, 1] > val)\n",
    "        coords[folded_points, 1] = val*2 - coords[folded_points, 1]\n",
    "    elif (dir == 'x'): # fold LEFT\n",
    "        folded_points = np.where(coords[:, 0] > val)\n",
    "        coords[folded_points, 0] = val*2 - coords[folded_points, 0]\n",
    "    return len(np.unique(coords, axis = 0))"
   ]
  },
  {
   "cell_type": "markdown",
   "metadata": {},
   "source": [
    "### Examples"
   ]
  },
  {
   "cell_type": "code",
   "execution_count": 4,
   "metadata": {
    "id": "4a8kvJs9QfQo"
   },
   "outputs": [],
   "source": [
    "example_input = \"\"\"6,10\n",
    "0,14\n",
    "9,10\n",
    "0,3\n",
    "10,4\n",
    "4,11\n",
    "6,0\n",
    "6,12\n",
    "4,1\n",
    "0,13\n",
    "10,12\n",
    "3,4\n",
    "3,0\n",
    "8,4\n",
    "1,10\n",
    "2,14\n",
    "8,10\n",
    "9,0\n",
    "\n",
    "fold along y=7\n",
    "fold along x=5\"\"\""
   ]
  },
  {
   "cell_type": "code",
   "execution_count": 5,
   "metadata": {},
   "outputs": [],
   "source": [
    "coords_ex, folds_ex = parse(example_input)"
   ]
  },
  {
   "cell_type": "code",
   "execution_count": 6,
   "metadata": {
    "scrolled": true
   },
   "outputs": [
    {
     "data": {
      "text/plain": [
       "17"
      ]
     },
     "execution_count": 6,
     "metadata": {},
     "output_type": "execute_result"
    }
   ],
   "source": [
    "one_fold(coords_ex, folds_ex)"
   ]
  },
  {
   "cell_type": "markdown",
   "metadata": {},
   "source": [
    "### Using Input Data"
   ]
  },
  {
   "cell_type": "code",
   "execution_count": 7,
   "metadata": {},
   "outputs": [
    {
     "data": {
      "text/plain": [
       "716"
      ]
     },
     "execution_count": 7,
     "metadata": {},
     "output_type": "execute_result"
    }
   ],
   "source": [
    "coords, folds = parse(\"InputFiles/day13input.txt\")\n",
    "one_fold(coords, folds)"
   ]
  },
  {
   "cell_type": "markdown",
   "metadata": {},
   "source": [
    "## Part 2"
   ]
  },
  {
   "cell_type": "code",
   "execution_count": 8,
   "metadata": {},
   "outputs": [],
   "source": [
    "import matplotlib.pyplot as plt"
   ]
  },
  {
   "cell_type": "markdown",
   "metadata": {},
   "source": [
    "### Define Functions"
   ]
  },
  {
   "cell_type": "code",
   "execution_count": 9,
   "metadata": {},
   "outputs": [],
   "source": [
    "def fold_transparent_paper(coords, folds):\n",
    "    for fold in folds:\n",
    "        dir, val = fold.split('=')\n",
    "        dir = dir[-1] # direction of fold, x (left) or y (up)\n",
    "        val = int(val) # numeric value on which to perform the fold\n",
    "        \n",
    "        maxX = max(coords[:, 0])\n",
    "        maxY = max(coords[:, 1])\n",
    "\n",
    "        if ((dir == 'x') & (val < maxX/2)):\n",
    "            print(\"overlap on left\")\n",
    "        elif ((dir == 'y') & (val < maxY/2)):\n",
    "            print(\"overlap on top\")\n",
    "\n",
    "        if (dir == 'y'): # fold UP\n",
    "            folded_points = np.where(coords[:, 1] > val)\n",
    "            coords[folded_points, 1] = val*2 - coords[folded_points, 1]\n",
    "        elif (dir == 'x'): # fold LEFT\n",
    "            folded_points = np.where(coords[:, 0] > val)\n",
    "            coords[folded_points, 0] = val*2 - coords[folded_points, 0]\n",
    "    return coords"
   ]
  },
  {
   "cell_type": "code",
   "execution_count": 10,
   "metadata": {
    "scrolled": true
   },
   "outputs": [
    {
     "data": {
      "text/plain": [
       "array([[35,  1],\n",
       "       [23,  0],\n",
       "       [32,  5],\n",
       "       ...,\n",
       "       [16,  2],\n",
       "       [35,  4],\n",
       "       [ 7,  3]])"
      ]
     },
     "execution_count": 10,
     "metadata": {},
     "output_type": "execute_result"
    }
   ],
   "source": [
    "finalc = fold_transparent_paper(coords, folds)\n",
    "finalc"
   ]
  },
  {
   "cell_type": "code",
   "execution_count": 11,
   "metadata": {
    "scrolled": false
   },
   "outputs": [
    {
     "data": {
      "text/plain": [
       "array([[35, 23, 32, ..., 16, 35,  7],\n",
       "       [-1,  0, -5, ..., -2, -4, -3]])"
      ]
     },
     "execution_count": 11,
     "metadata": {},
     "output_type": "execute_result"
    }
   ],
   "source": [
    "finalc[:, 1] *= (-1)\n",
    "finalc.T"
   ]
  },
  {
   "cell_type": "code",
   "execution_count": 12,
   "metadata": {
    "scrolled": false
   },
   "outputs": [
    {
     "data": {
      "text/plain": [
       "<matplotlib.collections.PathCollection at 0x203ddc399c8>"
      ]
     },
     "execution_count": 12,
     "metadata": {},
     "output_type": "execute_result"
    },
    {
     "data": {
      "image/png": "[encoded data removed]",
      "text/plain": [
       "<Figure size 576x108 with 1 Axes>"
      ]
     },
     "metadata": {
      "needs_background": "light"
     },
     "output_type": "display_data"
    }
   ],
   "source": [
    "x, y = finalc.T\n",
    "fig, ax = plt.subplots(figsize = (8, 1.5))\n",
    "ax.scatter(x, y)"
   ]
  },
  {
   "cell_type": "markdown",
   "metadata": {},
   "source": [
    "8-letter code: RPCKFBLR"
   ]
  }
 ],
 "metadata": {
  "colab": {
   "authorship_tag": "ABX9TyNv6Y39iz35rqhZ68tUZMOI",
   "include_colab_link": true,
   "name": "Day13_TransparentOrgami.ipynb",
   "provenance": []
  },
  "kernelspec": {
   "display_name": "Python 3 (ipykernel)",
   "language": "python",
   "name": "python3"
  },
  "language_info": {
   "codemirror_mode": {
    "name": "ipython",
    "version": 3
   },
   "file_extension": ".py",
   "mimetype": "text/x-python",
   "name": "python",
   "nbconvert_exporter": "python",
   "pygments_lexer": "ipython3",
   "version": "3.7.12"
  },
  "toc": {
   "base_numbering": 1,
   "nav_menu": {},
   "number_sections": false,
   "sideBar": true,
   "skip_h1_title": false,
   "title_cell": "Table of Contents",
   "title_sidebar": "Contents",
   "toc_cell": false,
   "toc_position": {},
   "toc_section_display": true,
   "toc_window_display": true
  }
 },
 "nbformat": 4,
 "nbformat_minor": 1
}
