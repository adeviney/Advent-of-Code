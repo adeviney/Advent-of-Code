{
 "cells": [
  {
   "cell_type": "markdown",
   "id": "7bf53a02",
   "metadata": {},
   "source": [
    "# Day 15: Chiton"
   ]
  },
  {
   "cell_type": "markdown",
   "id": "f5163675",
   "metadata": {},
   "source": [
    "## Part 1"
   ]
  },
  {
   "cell_type": "code",
   "execution_count": 138,
   "id": "f7e0d811",
   "metadata": {},
   "outputs": [],
   "source": [
    "import numpy as np\n",
    "import heapq"
   ]
  },
  {
   "cell_type": "code",
   "execution_count": 139,
   "id": "d5c33e87",
   "metadata": {},
   "outputs": [],
   "source": [
    "def parse_data(source):\n",
    "    if source.endswith(\".txt\"):\n",
    "        try:\n",
    "            with open(source) as f:\n",
    "                source = f.read().strip()\n",
    "        except:\n",
    "            print(\"file not found, please try again\")\n",
    "            return -1\n",
    "    return np.array([list(i) for i in source.split('\\n')]).astype(int)"
   ]
  },
  {
   "cell_type": "code",
   "execution_count": 140,
   "id": "8a58f074",
   "metadata": {},
   "outputs": [],
   "source": [
    "example = \"\"\"1163751742\n",
    "1381373672\n",
    "2136511328\n",
    "3694931569\n",
    "7463417111\n",
    "1319128137\n",
    "1359912421\n",
    "3125421639\n",
    "1293138521\n",
    "2311944581\"\"\""
   ]
  },
  {
   "cell_type": "code",
   "execution_count": 165,
   "id": "90892177",
   "metadata": {
    "scrolled": false
   },
   "outputs": [],
   "source": [
    "cave_map_ex = parse_data(example)"
   ]
  },
  {
   "cell_type": "code",
   "execution_count": 157,
   "id": "5820c23a",
   "metadata": {},
   "outputs": [],
   "source": [
    "def dijkstra(cave_map):\n",
    "    visited = np.zeros_like(cave_map, dtype = 'bool')\n",
    "    parentsMap = {}\n",
    "    pq = []\n",
    "    costs = np.full_like(cave_map, fill_value = float('inf'), dtype = 'float')\n",
    "    \n",
    "    start = (0,0)\n",
    "    costs[start] = 0\n",
    "    heapq.heappush(pq, (0, start))\n",
    "    \n",
    "    while pq:\n",
    "        risk, current_node  = heapq.heappop(pq)\n",
    "        visited[current_node] = True\n",
    "        \n",
    "        for next_node in get_neighbors(current_node, cave_map):\n",
    "            if visited[next_node]:\n",
    "                continue\n",
    "            risk_temp = cave_map[next_node] + costs[current_node]\n",
    "            if risk_temp < costs[next_node]:\n",
    "                parentsMap[next_node] = current_node\n",
    "                costs[next_node] = risk_temp\n",
    "                heapq.heappush(pq, (risk_temp, next_node))\n",
    "                \n",
    "    return parentsMap, costs\n",
    "    \n",
    "def get_neighbors(node_coord, cave_map):\n",
    "    x = node_coord[0]\n",
    "    y = node_coord[1]\n",
    "    \n",
    "    neighbor_candidates = [(x+1,y), (x,y+1), (x-1,y), (x,y-1)]\n",
    "    neighbors = []\n",
    "    for nb in neighbor_candidates:\n",
    "        if not ((nb[0] < 0) | (nb[0]>cave_map.shape[0]-1) | (nb[1]<0) | (nb[1]>cave_map.shape[1]-1)):\n",
    "            neighbors.append(nb)\n",
    "            \n",
    "    return neighbors"
   ]
  },
  {
   "cell_type": "code",
   "execution_count": 167,
   "id": "4af013c1",
   "metadata": {},
   "outputs": [
    {
     "data": {
      "text/plain": [
       "40.0"
      ]
     },
     "execution_count": 167,
     "metadata": {},
     "output_type": "execute_result"
    }
   ],
   "source": [
    "path_map, total_risk = dijkstra(cave_map_ex)\n",
    "total_risk[cave_map_ex.shape[0]-1, cave_map_ex.shape[1]-1]"
   ]
  },
  {
   "cell_type": "code",
   "execution_count": 218,
   "id": "38c5cffe",
   "metadata": {},
   "outputs": [
    {
     "data": {
      "text/plain": [
       "696.0"
      ]
     },
     "execution_count": 218,
     "metadata": {},
     "output_type": "execute_result"
    }
   ],
   "source": [
    "cave_map = parse_data(\"InputFiles/day15input.txt\")\n",
    "path_map, total_risk = dijkstra(cave_map)\n",
    "total_risk[cave_map.shape[0]-1, cave_map.shape[1]-1]"
   ]
  },
  {
   "cell_type": "markdown",
   "id": "4b0d055a",
   "metadata": {},
   "source": [
    "## Part 2"
   ]
  },
  {
   "cell_type": "code",
   "execution_count": 229,
   "id": "7ad8729b",
   "metadata": {},
   "outputs": [],
   "source": [
    "def find_entire_map(cave_map):\n",
    "    extended_right = np.concatenate([cave_map, cave_map + 1, cave_map + 2, cave_map + 3, cave_map + 4], axis = 1)\n",
    "    while (np.any(extended_right > 9)):\n",
    "        extended_right[extended_right >= 10] -= 9\n",
    "    \n",
    "    extended_down = np.concatenate([extended_right, extended_right + 1, extended_right + 2, \n",
    "                                    extended_right + 3, extended_right + 4], axis = 0)\n",
    "    \n",
    "    while (np.any(extended_down > 9)):\n",
    "        extended_down[extended_down >= 10] -= 9\n",
    "\n",
    "    return extended_down"
   ]
  },
  {
   "cell_type": "code",
   "execution_count": 215,
   "id": "9ff35b90",
   "metadata": {},
   "outputs": [],
   "source": [
    "entire_cave_map_ex = find_entire_map(cave_map_ex)"
   ]
  },
  {
   "cell_type": "code",
   "execution_count": 216,
   "id": "3a85fd33",
   "metadata": {},
   "outputs": [
    {
     "data": {
      "text/plain": [
       "315.0"
      ]
     },
     "execution_count": 216,
     "metadata": {},
     "output_type": "execute_result"
    }
   ],
   "source": [
    "path_map, total_risk = dijkstra(entire_cave_map_ex)\n",
    "total_risk[entire_cave_map_ex.shape[0]-1, entire_cave_map_ex.shape[1]-1]"
   ]
  },
  {
   "cell_type": "code",
   "execution_count": 230,
   "id": "6faf1eb8",
   "metadata": {},
   "outputs": [],
   "source": [
    "entire_cave_map = find_entire_map(cave_map)"
   ]
  },
  {
   "cell_type": "code",
   "execution_count": 232,
   "id": "45309d31",
   "metadata": {},
   "outputs": [
    {
     "data": {
      "text/plain": [
       "2952.0"
      ]
     },
     "execution_count": 232,
     "metadata": {},
     "output_type": "execute_result"
    }
   ],
   "source": [
    "path_map, total_risk = dijkstra(entire_cave_map)\n",
    "total_risk[entire_cave_map.shape[0]-1, entire_cave_map.shape[1]-1]"
   ]
  }
 ],
 "metadata": {
  "kernelspec": {
   "display_name": "Python (dojo-env)",
   "language": "python",
   "name": "dojo-env"
  },
  "language_info": {
   "codemirror_mode": {
    "name": "ipython",
    "version": 3
   },
   "file_extension": ".py",
   "mimetype": "text/x-python",
   "name": "python",
   "nbconvert_exporter": "python",
   "pygments_lexer": "ipython3",
   "version": "3.7.12"
  },
  "toc": {
   "base_numbering": 1,
   "nav_menu": {},
   "number_sections": false,
   "sideBar": true,
   "skip_h1_title": false,
   "title_cell": "Table of Contents",
   "title_sidebar": "Contents",
   "toc_cell": false,
   "toc_position": {},
   "toc_section_display": true,
   "toc_window_display": true
  }
 },
 "nbformat": 4,
 "nbformat_minor": 5
}
