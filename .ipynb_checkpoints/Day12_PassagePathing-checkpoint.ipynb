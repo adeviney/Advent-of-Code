{
 "cells": [
  {
   "cell_type": "markdown",
   "metadata": {
    "colab_type": "text",
    "id": "view-in-github"
   },
   "source": [
    "<a href=\"https://colab.research.google.com/github/adeviney/Advent-of-Code/blob/main/Day12_PassagePathing.ipynb\" target=\"_parent\"><img src=\"https://colab.research.google.com/assets/colab-badge.svg\" alt=\"Open In Colab\"/></a>"
   ]
  },
  {
   "cell_type": "markdown",
   "metadata": {
    "id": "EsdJGFpGd1yp"
   },
   "source": [
    "# Day 12: Passage Pathing"
   ]
  },
  {
   "cell_type": "markdown",
   "metadata": {},
   "source": [
    "# Part 1"
   ]
  },
  {
   "cell_type": "markdown",
   "metadata": {
    "id": "dq09UoR6emgn"
   },
   "source": [
    "## Test with Examples Given"
   ]
  },
  {
   "cell_type": "code",
   "execution_count": 1,
   "metadata": {
    "id": "_iBpHN_Lduiu"
   },
   "outputs": [],
   "source": [
    "example = \"\"\"start-A\n",
    "start-b\n",
    "A-c\n",
    "A-b\n",
    "b-d\n",
    "A-end\n",
    "b-end\"\"\""
   ]
  },
  {
   "cell_type": "code",
   "execution_count": 2,
   "metadata": {
    "id": "FMFf0z7ofw4f"
   },
   "outputs": [],
   "source": [
    "def parse(string_input):\n",
    "    if string_input[-4:] == \".txt\":\n",
    "        with open(string_input) as f:\n",
    "            string_input = f.read().strip()\n",
    "    adjlist = {}\n",
    "    for edge in string_input.split('\\n'):\n",
    "        [x, y]  = edge.split('-')\n",
    "        if x in adjlist.keys():\n",
    "            adjlist[x].append(y)\n",
    "        else:\n",
    "            adjlist[x] = [y]\n",
    "        if y in adjlist.keys():\n",
    "            adjlist[y].append(x)\n",
    "        else:\n",
    "            adjlist[y] = [x]\n",
    "    return adjlist"
   ]
  },
  {
   "cell_type": "code",
   "execution_count": 3,
   "metadata": {
    "id": "R_vFBrH_guZn"
   },
   "outputs": [],
   "source": [
    "adjlist = parse(example)"
   ]
  },
  {
   "cell_type": "code",
   "execution_count": 4,
   "metadata": {
    "id": "kFuZXuHcofKz"
   },
   "outputs": [],
   "source": [
    "def num_paths(adjlist, path = None):\n",
    "    if path == None:\n",
    "        path = ['start']\n",
    "    num_p = 0\n",
    "    for cave in adjlist[path[-1]]:\n",
    "        if cave.upper() == cave or cave not in path:\n",
    "            if cave == 'end':\n",
    "                num_p += 1\n",
    "            else:\n",
    "                num_p += num_paths(adjlist, path + [cave])\n",
    "    return num_p"
   ]
  },
  {
   "cell_type": "code",
   "execution_count": 5,
   "metadata": {
    "colab": {
     "base_uri": "https://localhost:8080/"
    },
    "id": "M_N8FfensH5p",
    "outputId": "37356016-ff8b-429a-d36b-e80f399640be"
   },
   "outputs": [
    {
     "data": {
      "text/plain": [
       "10"
      ]
     },
     "execution_count": 5,
     "metadata": {},
     "output_type": "execute_result"
    }
   ],
   "source": [
    "num_paths(adjlist)"
   ]
  },
  {
   "cell_type": "code",
   "execution_count": 6,
   "metadata": {
    "id": "fXSY2P33elz3"
   },
   "outputs": [],
   "source": [
    "# second example\n",
    "example2 = \"\"\"dc-end\n",
    "HN-start\n",
    "start-kj\n",
    "dc-start\n",
    "dc-HN\n",
    "LN-dc\n",
    "HN-end\n",
    "kj-sa\n",
    "kj-HN\n",
    "kj-dc\"\"\""
   ]
  },
  {
   "cell_type": "code",
   "execution_count": 7,
   "metadata": {
    "id": "CKMhG86leyNk"
   },
   "outputs": [],
   "source": [
    "adjlist2 = parse(example2)"
   ]
  },
  {
   "cell_type": "code",
   "execution_count": 8,
   "metadata": {
    "colab": {
     "base_uri": "https://localhost:8080/"
    },
    "id": "Cq8t-ZYJe74n",
    "outputId": "0c2d6b7f-d7d6-4df6-80d0-d9849cb7f014"
   },
   "outputs": [
    {
     "data": {
      "text/plain": [
       "19"
      ]
     },
     "execution_count": 8,
     "metadata": {},
     "output_type": "execute_result"
    }
   ],
   "source": [
    "num_paths(adjlist2)"
   ]
  },
  {
   "cell_type": "code",
   "execution_count": 9,
   "metadata": {
    "id": "1NbebFu_gIRF"
   },
   "outputs": [],
   "source": [
    "# third example\n",
    "example3 = \"\"\"fs-end\n",
    "he-DX\n",
    "fs-he\n",
    "start-DX\n",
    "pj-DX\n",
    "end-zg\n",
    "zg-sl\n",
    "zg-pj\n",
    "pj-he\n",
    "RW-he\n",
    "fs-DX\n",
    "pj-RW\n",
    "zg-RW\n",
    "start-pj\n",
    "he-WI\n",
    "zg-he\n",
    "pj-fs\n",
    "start-RW\"\"\""
   ]
  },
  {
   "cell_type": "code",
   "execution_count": 10,
   "metadata": {
    "colab": {
     "base_uri": "https://localhost:8080/"
    },
    "id": "KYu368M9gN4_",
    "outputId": "3d514b0e-ff93-4e09-a0ac-171610b2dd51"
   },
   "outputs": [
    {
     "data": {
      "text/plain": [
       "226"
      ]
     },
     "execution_count": 10,
     "metadata": {},
     "output_type": "execute_result"
    }
   ],
   "source": [
    "adjlist3 = parse(example3)\n",
    "num_paths(adjlist3)"
   ]
  },
  {
   "cell_type": "markdown",
   "metadata": {
    "id": "OCG4qvXDhXKA"
   },
   "source": [
    "## Obtain Answer with Real Data"
   ]
  },
  {
   "cell_type": "code",
   "execution_count": 11,
   "metadata": {
    "id": "On50lThsg9Rh"
   },
   "outputs": [],
   "source": [
    "realadj = parse('InputFiles/day12input.txt')"
   ]
  },
  {
   "cell_type": "code",
   "execution_count": 12,
   "metadata": {
    "colab": {
     "base_uri": "https://localhost:8080/"
    },
    "id": "ZcmuaxUThWnm",
    "outputId": "7ec52a7c-0598-44af-d625-5c12055b1f10"
   },
   "outputs": [
    {
     "data": {
      "text/plain": [
       "4378"
      ]
     },
     "execution_count": 12,
     "metadata": {},
     "output_type": "execute_result"
    }
   ],
   "source": [
    "num_paths(realadj)"
   ]
  },
  {
   "cell_type": "markdown",
   "metadata": {
    "id": "cPg8hUMthko9"
   },
   "source": [
    "# Part 2\n"
   ]
  },
  {
   "cell_type": "markdown",
   "metadata": {},
   "source": [
    "## Rewrite Function"
   ]
  },
  {
   "cell_type": "code",
   "execution_count": 13,
   "metadata": {
    "id": "hnBYXKGWh1Wh"
   },
   "outputs": [],
   "source": [
    "def num_paths(adjlist, doublesmallcave = False, path = None):\n",
    "    if path == None:\n",
    "        path = ['start']\n",
    "    num_p = 0\n",
    "    for cave in adjlist[path[-1]]:\n",
    "        if (cave != 'start') & ((cave.upper() == cave) | (cave not in path) | (doublesmallcave == False)):\n",
    "            if cave == 'end':\n",
    "                num_p += 1\n",
    "            else:\n",
    "                if (cave.lower() == cave) & (cave in path):\n",
    "                    num_p += num_paths(adjlist, True, path + [cave])\n",
    "                else:\n",
    "                    num_p += num_paths(adjlist, doublesmallcave, path + [cave])\n",
    "    return num_p"
   ]
  },
  {
   "cell_type": "markdown",
   "metadata": {},
   "source": [
    "## Test"
   ]
  },
  {
   "cell_type": "code",
   "execution_count": 14,
   "metadata": {
    "scrolled": false
   },
   "outputs": [
    {
     "data": {
      "text/plain": [
       "36"
      ]
     },
     "execution_count": 14,
     "metadata": {},
     "output_type": "execute_result"
    }
   ],
   "source": [
    "num_paths(adjlist)"
   ]
  },
  {
   "cell_type": "code",
   "execution_count": 15,
   "metadata": {
    "scrolled": true
   },
   "outputs": [
    {
     "data": {
      "text/plain": [
       "103"
      ]
     },
     "execution_count": 15,
     "metadata": {},
     "output_type": "execute_result"
    }
   ],
   "source": [
    "num_paths(adjlist2)"
   ]
  },
  {
   "cell_type": "code",
   "execution_count": 16,
   "metadata": {},
   "outputs": [
    {
     "data": {
      "text/plain": [
       "3509"
      ]
     },
     "execution_count": 16,
     "metadata": {},
     "output_type": "execute_result"
    }
   ],
   "source": [
    "num_paths(adjlist3)"
   ]
  },
  {
   "cell_type": "markdown",
   "metadata": {},
   "source": [
    "## Obtain Answer with Real Data"
   ]
  },
  {
   "cell_type": "code",
   "execution_count": 17,
   "metadata": {},
   "outputs": [
    {
     "data": {
      "text/plain": [
       "133621"
      ]
     },
     "execution_count": 17,
     "metadata": {},
     "output_type": "execute_result"
    }
   ],
   "source": [
    "num_paths(realadj)"
   ]
  }
 ],
 "metadata": {
  "colab": {
   "authorship_tag": "ABX9TyN1Vmm9c8KCJDTmJsNxib24",
   "include_colab_link": true,
   "name": "Day12_PassagePathing.ipynb",
   "provenance": []
  },
  "kernelspec": {
   "display_name": "Python 3 (ipykernel)",
   "language": "python",
   "name": "python3"
  },
  "language_info": {
   "codemirror_mode": {
    "name": "ipython",
    "version": 3
   },
   "file_extension": ".py",
   "mimetype": "text/x-python",
   "name": "python",
   "nbconvert_exporter": "python",
   "pygments_lexer": "ipython3",
   "version": "3.7.12"
  },
  "toc": {
   "base_numbering": 1,
   "nav_menu": {},
   "number_sections": false,
   "sideBar": true,
   "skip_h1_title": false,
   "title_cell": "Table of Contents",
   "title_sidebar": "Contents",
   "toc_cell": false,
   "toc_position": {},
   "toc_section_display": true,
   "toc_window_display": true
  }
 },
 "nbformat": 4,
 "nbformat_minor": 1
}
