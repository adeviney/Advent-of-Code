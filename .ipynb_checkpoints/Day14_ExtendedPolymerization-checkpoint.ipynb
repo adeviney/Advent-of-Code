{
 "cells": [
  {
   "cell_type": "markdown",
   "id": "175b4329",
   "metadata": {},
   "source": [
    "# Day 14: Extended Polymerization"
   ]
  },
  {
   "cell_type": "markdown",
   "id": "30384025",
   "metadata": {},
   "source": [
    "## Part 1\n",
    "\n",
    "### Define Functions"
   ]
  },
  {
   "cell_type": "code",
   "execution_count": 1,
   "id": "0c26a119",
   "metadata": {},
   "outputs": [],
   "source": [
    "def parse(source):\n",
    "    if source.endswith(\".txt\"):\n",
    "        try:\n",
    "            with open(source) as f:\n",
    "                source = f.read().strip()\n",
    "        except:\n",
    "            print(\"file not found, please try again\")\n",
    "            return -1\n",
    "    lines = source.split('\\n')\n",
    "    template = lines[0]\n",
    "    rules = lines[2:]\n",
    "    rule_dict = {}\n",
    "    for rule in rules:\n",
    "        rule_dict[rule[:2]] = rule[-1]\n",
    "    return [template, rule_dict]"
   ]
  },
  {
   "cell_type": "code",
   "execution_count": 2,
   "id": "252c1a4e",
   "metadata": {},
   "outputs": [],
   "source": [
    "def polymer_growth(template, rules, num_steps = 1, verbose = False):\n",
    "    if verbose:\n",
    "        print(\"Template:\", template)\n",
    "    for step_num in range(num_steps):\n",
    "        polymer = template[0]\n",
    "        for i in range(len(template) - 1):\n",
    "            pair = template[i:i+2]\n",
    "            el_to_insert = rules[pair]\n",
    "            polymer = polymer[:] + el_to_insert + template[i+1]\n",
    "        template = polymer\n",
    "        if verbose:\n",
    "            print(f\"After step {step_num+1}: length {len(polymer)}, {polymer}\")\n",
    "    return polymer"
   ]
  },
  {
   "cell_type": "code",
   "execution_count": 3,
   "id": "0ed8e4d4",
   "metadata": {},
   "outputs": [],
   "source": [
    "def most_minus_least_common(polymer, verbose = False):\n",
    "    chars = list(set(sorted(polymer)))\n",
    "    num_occur = {}\n",
    "    for c in chars:\n",
    "        num_occur[c] = polymer.count(c)\n",
    "    maxq = max(num_occur.values())\n",
    "    minq = min(num_occur.values())\n",
    "    if verbose:\n",
    "        print(\"element | quantity\")\n",
    "        for c, num in num_occur.items():\n",
    "            print(f\"{c} | {num}\")\n",
    "        print(f\"most common ({(max(num_occur, key=num_occur.get))}, {maxq})\")\n",
    "        print(f\"least common ({(min(num_occur, key=num_occur.get))}, {minq})\")\n",
    "    return maxq - minq"
   ]
  },
  {
   "cell_type": "markdown",
   "id": "3faa876b",
   "metadata": {},
   "source": [
    "### Test on Example"
   ]
  },
  {
   "cell_type": "code",
   "execution_count": 4,
   "id": "23c0b789",
   "metadata": {},
   "outputs": [],
   "source": [
    "example_input = \"\"\"NNCB\n",
    "\n",
    "CH -> B\n",
    "HH -> N\n",
    "CB -> H\n",
    "NH -> C\n",
    "HB -> C\n",
    "HC -> B\n",
    "HN -> C\n",
    "NN -> C\n",
    "BH -> H\n",
    "NC -> B\n",
    "NB -> B\n",
    "BN -> B\n",
    "BB -> N\n",
    "BC -> B\n",
    "CC -> N\n",
    "CN -> C\"\"\""
   ]
  },
  {
   "cell_type": "code",
   "execution_count": 5,
   "id": "ad18bb66",
   "metadata": {
    "scrolled": false
   },
   "outputs": [
    {
     "data": {
      "text/plain": [
       "'NNCB'"
      ]
     },
     "execution_count": 5,
     "metadata": {},
     "output_type": "execute_result"
    }
   ],
   "source": [
    "template_ex, rules_ex = parse(example_input)\n",
    "template_ex"
   ]
  },
  {
   "cell_type": "code",
   "execution_count": 6,
   "id": "3e0a5804",
   "metadata": {},
   "outputs": [
    {
     "data": {
      "text/plain": [
       "{'CH': 'B',\n",
       " 'HH': 'N',\n",
       " 'CB': 'H',\n",
       " 'NH': 'C',\n",
       " 'HB': 'C',\n",
       " 'HC': 'B',\n",
       " 'HN': 'C',\n",
       " 'NN': 'C',\n",
       " 'BH': 'H',\n",
       " 'NC': 'B',\n",
       " 'NB': 'B',\n",
       " 'BN': 'B',\n",
       " 'BB': 'N',\n",
       " 'BC': 'B',\n",
       " 'CC': 'N',\n",
       " 'CN': 'C'}"
      ]
     },
     "execution_count": 6,
     "metadata": {},
     "output_type": "execute_result"
    }
   ],
   "source": [
    "rules_ex"
   ]
  },
  {
   "cell_type": "code",
   "execution_count": 7,
   "id": "1296dee5",
   "metadata": {
    "scrolled": true
   },
   "outputs": [
    {
     "name": "stdout",
     "output_type": "stream",
     "text": [
      "element | quantity\n",
      "H | 161\n",
      "C | 298\n",
      "B | 1749\n",
      "N | 865\n",
      "most common (B, 1749)\n",
      "least common (H, 161)\n"
     ]
    },
    {
     "data": {
      "text/plain": [
       "1588"
      ]
     },
     "execution_count": 7,
     "metadata": {},
     "output_type": "execute_result"
    }
   ],
   "source": [
    "polymer_ex = polymer_growth(template_ex, rules_ex, 10)#, verbose = True)\n",
    "most_minus_least_common(polymer_ex, verbose = True)"
   ]
  },
  {
   "cell_type": "markdown",
   "id": "83763dae",
   "metadata": {},
   "source": [
    "### Input File"
   ]
  },
  {
   "cell_type": "code",
   "execution_count": 8,
   "id": "bcda6dc4",
   "metadata": {},
   "outputs": [],
   "source": [
    "file_name = \"InputFiles/day14input.txt\""
   ]
  },
  {
   "cell_type": "code",
   "execution_count": 9,
   "id": "3d1576aa",
   "metadata": {},
   "outputs": [],
   "source": [
    "template, rules = parse(file_name)"
   ]
  },
  {
   "cell_type": "code",
   "execution_count": 10,
   "id": "5ad2a024",
   "metadata": {
    "scrolled": false
   },
   "outputs": [
    {
     "name": "stdout",
     "output_type": "stream",
     "text": [
      "element | quantity\n",
      "C | 1942\n",
      "B | 671\n",
      "F | 862\n",
      "S | 2819\n",
      "O | 2839\n",
      "N | 2693\n",
      "K | 1162\n",
      "V | 2904\n",
      "H | 2414\n",
      "P | 1151\n",
      "most common (V, 2904)\n",
      "least common (B, 671)\n"
     ]
    },
    {
     "data": {
      "text/plain": [
       "2233"
      ]
     },
     "execution_count": 10,
     "metadata": {},
     "output_type": "execute_result"
    }
   ],
   "source": [
    "polymer = polymer_growth(template, rules, 10)\n",
    "most_minus_least_common(polymer, verbose = True)"
   ]
  },
  {
   "cell_type": "markdown",
   "id": "17f7f289",
   "metadata": {},
   "source": [
    "## Part 2\n",
    "\n",
    "I knew this was too easy...\n",
    "\n",
    "Lanternfish flashback... time to find a less expensive solution...\n",
    "\n",
    "Instead of keeping track of the entire string, I'll only keep track of (1) the number of times each *pair* occurs in the string and (2) the number of times each *character* occurs in the string."
   ]
  },
  {
   "cell_type": "markdown",
   "id": "722af7fb",
   "metadata": {},
   "source": [
    "### New Function"
   ]
  },
  {
   "cell_type": "code",
   "execution_count": 11,
   "id": "05cb9000",
   "metadata": {},
   "outputs": [],
   "source": [
    "#optimized polymer_growth function\n",
    "def op_polymer_growth(template, rules, num_steps = 1, verbose = False):\n",
    "    pair_count = {}\n",
    "    element_count = {}\n",
    "    \n",
    "    #initalize pair_count and element_count to template\n",
    "    for i, char in enumerate(template):\n",
    "        if char in element_count:\n",
    "            element_count[char] += 1\n",
    "        else:\n",
    "            element_count[char] = 1\n",
    "        \n",
    "        pair = template[i:i+2]\n",
    "        if pair in pair_count:\n",
    "            pair_count[pair] += 1\n",
    "        elif len(pair) == 2:\n",
    "            pair_count[pair] = 1\n",
    "    \n",
    "    # update pair_count and element_count with n steps\n",
    "    for step in range(num_steps):\n",
    "        \n",
    "        # start with a copy of pair_count in its current form each step\n",
    "        # this is what we will reference to determine quantity of each pair\n",
    "        # this way, if a pair is created by the insertion process, it will - \n",
    "        # not count as the quantity at the beginning of the step\n",
    "        \n",
    "        this_step = pair_count.copy()\n",
    "        \n",
    "        for pair in this_step.keys():\n",
    "            if this_step[pair] > 0:\n",
    "                elem_to_add = rules[pair]\n",
    "                n = this_step[pair]\n",
    "                if elem_to_add in element_count:\n",
    "                    element_count[elem_to_add] += n\n",
    "                else:\n",
    "                    element_count[elem_to_add] = n\n",
    "                \n",
    "                pair_count[pair] -= n\n",
    "                \n",
    "                if (pair[0] + elem_to_add) in pair_count:\n",
    "                    pair_count[pair[0] + elem_to_add] += n\n",
    "                else:\n",
    "                    pair_count[pair[0] + elem_to_add] = n\n",
    "\n",
    "                if (elem_to_add + pair[1]) in pair_count:\n",
    "                    pair_count[elem_to_add + pair[1]] += n\n",
    "                else:\n",
    "                    pair_count[elem_to_add + pair[1]] = n\n",
    "    \n",
    "    return max(element_count.values()) - min(element_count.values())"
   ]
  },
  {
   "cell_type": "markdown",
   "id": "21a804fa",
   "metadata": {},
   "source": [
    "### Example"
   ]
  },
  {
   "cell_type": "code",
   "execution_count": 12,
   "id": "c512f0e2",
   "metadata": {
    "scrolled": false
   },
   "outputs": [
    {
     "data": {
      "text/plain": [
       "1588"
      ]
     },
     "execution_count": 12,
     "metadata": {},
     "output_type": "execute_result"
    }
   ],
   "source": [
    "op_polymer_growth(template_ex, rules_ex, 10)"
   ]
  },
  {
   "cell_type": "code",
   "execution_count": 13,
   "id": "2fc66c5b",
   "metadata": {},
   "outputs": [
    {
     "data": {
      "text/plain": [
       "2188189693529"
      ]
     },
     "execution_count": 13,
     "metadata": {},
     "output_type": "execute_result"
    }
   ],
   "source": [
    "op_polymer_growth(template_ex, rules_ex, 40)"
   ]
  },
  {
   "cell_type": "markdown",
   "id": "5c5371ef",
   "metadata": {},
   "source": [
    "### Input File"
   ]
  },
  {
   "cell_type": "code",
   "execution_count": 14,
   "id": "011c634f",
   "metadata": {},
   "outputs": [
    {
     "data": {
      "text/plain": [
       "2233"
      ]
     },
     "execution_count": 14,
     "metadata": {},
     "output_type": "execute_result"
    }
   ],
   "source": [
    "op_polymer_growth(template, rules, 10)"
   ]
  },
  {
   "cell_type": "code",
   "execution_count": 15,
   "id": "9a2c57bb",
   "metadata": {},
   "outputs": [
    {
     "data": {
      "text/plain": [
       "2884513602164"
      ]
     },
     "execution_count": 15,
     "metadata": {},
     "output_type": "execute_result"
    }
   ],
   "source": [
    "op_polymer_growth(template, rules, 40)"
   ]
  }
 ],
 "metadata": {
  "kernelspec": {
   "display_name": "Python (dojo-env)",
   "language": "python",
   "name": "dojo-env"
  },
  "language_info": {
   "codemirror_mode": {
    "name": "ipython",
    "version": 3
   },
   "file_extension": ".py",
   "mimetype": "text/x-python",
   "name": "python",
   "nbconvert_exporter": "python",
   "pygments_lexer": "ipython3",
   "version": "3.7.12"
  },
  "toc": {
   "base_numbering": 1,
   "nav_menu": {},
   "number_sections": false,
   "sideBar": true,
   "skip_h1_title": false,
   "title_cell": "Table of Contents",
   "title_sidebar": "Contents",
   "toc_cell": false,
   "toc_position": {
    "height": "calc(100% - 180px)",
    "left": "10px",
    "top": "150px",
    "width": "307.2px"
   },
   "toc_section_display": true,
   "toc_window_display": true
  }
 },
 "nbformat": 4,
 "nbformat_minor": 5
}
