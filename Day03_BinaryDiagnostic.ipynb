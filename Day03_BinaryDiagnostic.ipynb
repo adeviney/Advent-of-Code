{
  "nbformat": 4,
  "nbformat_minor": 0,
  "metadata": {
    "colab": {
      "name": "Day3_BinaryDiagnostic.ipynb",
      "provenance": [],
      "collapsed_sections": [],
      "authorship_tag": "ABX9TyOTtOHZffBNv5zJ9b3+S4nA",
      "include_colab_link": true
    },
    "kernelspec": {
      "name": "python3",
      "display_name": "Python 3"
    },
    "language_info": {
      "name": "python"
    }
  },
  "cells": [
    {
      "cell_type": "markdown",
      "metadata": {
        "id": "view-in-github",
        "colab_type": "text"
      },
      "source": [
        "<a href=\"https://colab.research.google.com/github/adeviney/Advent-of-Code/blob/main/Day3_BinaryDiagnostic.ipynb\" target=\"_parent\"><img src=\"https://colab.research.google.com/assets/colab-badge.svg\" alt=\"Open In Colab\"/></a>"
      ]
    },
    {
      "cell_type": "markdown",
      "source": [
        "# Day 3: Binary Diagnostic"
      ],
      "metadata": {
        "id": "MekiaHG3oowT"
      }
    },
    {
      "cell_type": "code",
      "source": [
        "import pandas as pd"
      ],
      "metadata": {
        "id": "L-ufLpIYVMr-"
      },
      "execution_count": 11,
      "outputs": []
    },
    {
      "cell_type": "code",
      "execution_count": 12,
      "metadata": {
        "id": "NpXf4lh7OvhG"
      },
      "outputs": [],
      "source": [
        "def read_file(filename = 'input.txt'):\n",
        "  f = open(filename)\n",
        "  data = f.read().strip().split(\"\\n\")\n",
        "  return data"
      ]
    },
    {
      "cell_type": "markdown",
      "source": [
        "## Part 1"
      ],
      "metadata": {
        "id": "wMhK8olFonDB"
      }
    },
    {
      "cell_type": "code",
      "source": [
        "def calculate_power_consumption(diagnostic_report):\n",
        "  places = len(max(diagnostic_report, key=len))\n",
        "  checkForMostCommon = [0] * places\n",
        "  for number in diagnostic_report:\n",
        "    for i in range(places):\n",
        "      if number[i] == '1':\n",
        "        checkForMostCommon[i] += 1\n",
        "      else:\n",
        "        checkForMostCommon[i] -= 1\n",
        "  gamma = ''\n",
        "  epsilon = ''\n",
        "  for i in checkForMostCommon:\n",
        "    if i > 0:\n",
        "      gamma = gamma + '1'\n",
        "      epsilon = epsilon + '0'\n",
        "    elif i == 0:\n",
        "      # test to see if additional test is needed\n",
        "      print('same number of 0s and 1s')\n",
        "    else:\n",
        "      gamma = gamma + '0'\n",
        "      epsilon = epsilon + '1'\n",
        "  gamma = int(gamma, 2)\n",
        "  epsilon = int(epsilon, 2)\n",
        "  print(gamma, epsilon)\n",
        "  return gamma * epsilon"
      ],
      "metadata": {
        "id": "dQhtpj5QPJPd"
      },
      "execution_count": 13,
      "outputs": []
    },
    {
      "cell_type": "code",
      "source": [
        "data = read_file('input.txt')\n",
        "calculate_power_consumption(data)"
      ],
      "metadata": {
        "colab": {
          "base_uri": "https://localhost:8080/"
        },
        "id": "LgqQncDpO7QI",
        "outputId": "eca4a0d0-2ff3-465e-c52c-b7d6de6c3aa3"
      },
      "execution_count": 14,
      "outputs": [
        {
          "output_type": "stream",
          "name": "stdout",
          "text": [
            "3529 566\n"
          ]
        },
        {
          "output_type": "execute_result",
          "data": {
            "text/plain": [
              "1997414"
            ]
          },
          "metadata": {},
          "execution_count": 14
        }
      ]
    },
    {
      "cell_type": "markdown",
      "source": [
        "## Part 2"
      ],
      "metadata": {
        "id": "WWku4Mrao8ty"
      }
    },
    {
      "cell_type": "code",
      "source": [
        "def life_support_rating(diagnostic_report):\n",
        "  df_o2 = pd.DataFrame(diagnostic_report)\n",
        "  df_o2 = df_o2[0].apply(lambda x: pd.Series(list(x)))\n",
        "  df_co2 = df_o2.copy()\n",
        "\n",
        "\n",
        "# calculate o2 rating\n",
        "  for i in df_o2.columns:\n",
        "    if (df_co2.shape[0] == 1):\n",
        "      break # if only one number remaining in dataframe (this is our answer)\n",
        "    if (df_o2[i].nunique() == 1):  # if all the bits are the same for the numbers in the bit location\n",
        "      pass\n",
        "    elif (df_o2[i].value_counts()[0] == df_o2[i].value_counts()[1]): # same quantity of 0s and 1s\n",
        "      df_o2.drop(df_o2.index[df_o2[i] == '0'], inplace=True) # drop 0s\n",
        "    else:\n",
        "      # this is the typical condition\n",
        "      # drop the numbers containing the least common bit in this place\n",
        "      df_o2.drop(df_o2.index[df_o2[i] != df_o2.mode()[i][0]], inplace=True)\n",
        "\n",
        "\n",
        "# calcuate co2 rating\n",
        "  for i in df_co2.columns:\n",
        "    if (df_co2.shape[0] == 1):\n",
        "      break\n",
        "    if (df_co2[i].nunique() == 1):\n",
        "      # if all the bits are the same in this location, do not drop any, move on\n",
        "        pass \n",
        "    elif (df_co2[i].value_counts()[0] == df_co2[i].value_counts()[1]):\n",
        "      # dropping 1s if same quantity of 0s and 1s\n",
        "      df_co2.drop(df_co2.index[df_co2[i] == '1'], inplace=True)\n",
        "    else:\n",
        "      # dropping numbers w/ most common bit in this place \n",
        "      df_co2.drop(df_co2.index[df_co2[i] == df_co2[i].value_counts().index[0]], inplace=True)\n",
        "\n",
        "  df_o2_string = ''.join(df_o2.to_string().split(\"\\n\")[-1].split(\"  \")[1:])\n",
        "  df_co2_string = ''.join(df_co2.to_string().split(\"\\n\")[-1].split(\"  \")[1:])\n",
        "  o2rating = int(df_o2_string, 2)\n",
        "  co2rating = int(df_co2_string,2)\n",
        "\n",
        "  print(\"o2 rating\", o2rating)\n",
        "  print(\"co2 rating\", co2rating)\n",
        "\n",
        "  return o2rating * co2rating"
      ],
      "metadata": {
        "id": "A7MsKbrwo9nP"
      },
      "execution_count": 17,
      "outputs": []
    },
    {
      "cell_type": "code",
      "source": [
        "data = read_file()\n",
        "#data = ['00100','11110','10110','10111','10101', '01111', '00111', '11100', '10000', \\\n",
        "#        '11001', '00010', '01010']\n",
        "answer = life_support_rating(data)\n",
        "print(answer)"
      ],
      "metadata": {
        "colab": {
          "base_uri": "https://localhost:8080/"
        },
        "id": "8mNX4mm7ptlM",
        "outputId": "ffacfbb0-aabc-4013-fbf2-0d7d1fc051bf"
      },
      "execution_count": 18,
      "outputs": [
        {
          "output_type": "stream",
          "name": "stdout",
          "text": [
            "o2 rating 3573\n",
            "co2 rating 289\n",
            "1032597\n"
          ]
        }
      ]
    }
  ]
}