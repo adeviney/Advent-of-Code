{
  "nbformat": 4,
  "nbformat_minor": 0,
  "metadata": {
    "colab": {
      "name": "Day2-Dive.ipynb",
      "provenance": [],
      "authorship_tag": "ABX9TyPxNI/cho5dibeB2uZ9+t4i",
      "include_colab_link": true
    },
    "kernelspec": {
      "name": "python3",
      "display_name": "Python 3"
    },
    "language_info": {
      "name": "python"
    }
  },
  "cells": [
    {
      "cell_type": "markdown",
      "metadata": {
        "id": "view-in-github",
        "colab_type": "text"
      },
      "source": [
        "<a href=\"https://colab.research.google.com/github/adeviney/Advent-of-Code/blob/main/Day2_Dive.ipynb\" target=\"_parent\"><img src=\"https://colab.research.google.com/assets/colab-badge.svg\" alt=\"Open In Colab\"/></a>"
      ]
    },
    {
      "cell_type": "markdown",
      "source": [
        "# Advent of Code\n",
        "- Day 2: Dive"
      ],
      "metadata": {
        "id": "MpGOGS9RDwvA"
      }
    },
    {
      "cell_type": "code",
      "execution_count": 4,
      "metadata": {
        "id": "0awSe75MDtaG"
      },
      "outputs": [],
      "source": [
        "def read_file(filename = 'input.txt'):\n",
        "  f = open(filename)\n",
        "  data = f.read().strip().split(\"\\n\")\n",
        "  return data"
      ]
    },
    {
      "cell_type": "markdown",
      "source": [
        "## Part 1"
      ],
      "metadata": {
        "id": "vicdBPI4LgSv"
      }
    },
    {
      "cell_type": "code",
      "source": [
        "def calculate_area_traveled(commands):\n",
        "  hd = 0 # horizontal distance\n",
        "  d = 0 # depth\n",
        "  for command in commands:\n",
        "    direction = command[:-2]\n",
        "    units = int(command[-1:])\n",
        "\n",
        "    if direction == 'forward':\n",
        "      hd += units\n",
        "    elif direction == 'down':\n",
        "      d += units\n",
        "    elif direction == 'up':\n",
        "      d -= units\n",
        "  print (hd, d)\n",
        "  return hd * d"
      ],
      "metadata": {
        "id": "LbmhlNb8FKB7"
      },
      "execution_count": 27,
      "outputs": []
    },
    {
      "cell_type": "code",
      "source": [
        "commands = read_file()\n",
        "calculate_area_traveled(commands)"
      ],
      "metadata": {
        "colab": {
          "base_uri": "https://localhost:8080/"
        },
        "id": "o4CR8yjtEXvr",
        "outputId": "3b640076-6925-4ffe-8dce-01387045e4b4"
      },
      "execution_count": 28,
      "outputs": [
        {
          "output_type": "stream",
          "name": "stdout",
          "text": [
            "1939 1109\n"
          ]
        },
        {
          "output_type": "execute_result",
          "data": {
            "text/plain": [
              "2150351"
            ]
          },
          "metadata": {},
          "execution_count": 28
        }
      ]
    },
    {
      "cell_type": "markdown",
      "source": [
        "## Part 2"
      ],
      "metadata": {
        "id": "WvIralVoLh9E"
      }
    },
    {
      "cell_type": "code",
      "source": [
        "def calculate_area_traveled_2(commands):\n",
        "  hd = 0 # horizontal distance\n",
        "  d = 0 # depth\n",
        "  a = 0 # aim\n",
        "  for command in commands:\n",
        "    direction = command[:-2]\n",
        "    X = int(command[-1:])\n",
        "\n",
        "    if direction == 'forward':\n",
        "      hd += X\n",
        "      d += a * X\n",
        "    elif direction == 'down':\n",
        "      a += X\n",
        "    elif direction == 'up':\n",
        "      a -= X\n",
        "  print (hd, d)\n",
        "  return hd * d"
      ],
      "metadata": {
        "id": "XYODvXOELjYc"
      },
      "execution_count": 33,
      "outputs": []
    },
    {
      "cell_type": "code",
      "source": [
        "calculate_area_traveled_2(commands)"
      ],
      "metadata": {
        "colab": {
          "base_uri": "https://localhost:8080/"
        },
        "id": "TdvDYtooMELE",
        "outputId": "7a6823d8-db38-4f18-d9f1-42d116fd37a0"
      },
      "execution_count": 34,
      "outputs": [
        {
          "output_type": "stream",
          "name": "stdout",
          "text": [
            "1939 950357\n"
          ]
        },
        {
          "output_type": "execute_result",
          "data": {
            "text/plain": [
              "1842742223"
            ]
          },
          "metadata": {},
          "execution_count": 34
        }
      ]
    }
  ]
}